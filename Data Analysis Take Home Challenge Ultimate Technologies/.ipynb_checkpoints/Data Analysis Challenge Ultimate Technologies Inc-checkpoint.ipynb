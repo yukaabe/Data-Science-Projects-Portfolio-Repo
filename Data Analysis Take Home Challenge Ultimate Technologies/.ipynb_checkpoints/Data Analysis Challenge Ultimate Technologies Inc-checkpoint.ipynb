{
 "cells": [
  {
   "cell_type": "code",
   "execution_count": 4,
   "metadata": {},
   "outputs": [],
   "source": [
    "import pandas as pd\n",
    "import numpy as np\n",
    "import json\n",
    "import matplotlib.pyplot as plt\n",
    "%matplotlib inline\n",
    "from datetime import datetime\n",
    "from datetime import timedelta\n",
    "import warnings\n",
    "from sklearn.preprocessing import MinMaxScaler, StandardScaler\n",
    "from sklearn.metrics import precision_score, recall_score, roc_auc_score, roc_curve, f1_score, confusion_matrix\n",
    "import seaborn as sns\n",
    "from sklearn.linear_model import LogisticRegression\n",
    "from sklearn.model_selection import cross_val_score, train_test_split\n",
    "from sklearn import datasets, linear_model\n",
    "from sklearn import metrics\n",
    "from sklearn.metrics import confusion_matrix\n",
    "\n",
    "from sklearn.ensemble import RandomForestClassifier\n",
    "import time"
   ]
  },
  {
   "cell_type": "markdown",
   "metadata": {},
   "source": [
    "# Load the json file to python:"
   ]
  },
  {
   "cell_type": "code",
   "execution_count": 5,
   "metadata": {},
   "outputs": [],
   "source": [
    "with open(\"C:/Users/yuka.abe/Documents/GitHub/1481053515_ultimate_challenge/ultimate_challenge/ultimate_data_challenge.json\") as json_file:\n",
    "    data=json.load(json_file)"
   ]
  },
  {
   "cell_type": "code",
   "execution_count": 6,
   "metadata": {},
   "outputs": [],
   "source": [
    "with open(\"C:/Users/yuka.abe/Documents/GitHub/1481053515_ultimate_challenge/ultimate_challenge/logins.json\") as json_file1:\n",
    "    logins_data=json.load(json_file1)"
   ]
  },
  {
   "cell_type": "markdown",
   "metadata": {},
   "source": [
    "# Convert the json format data into pandas data frame:"
   ]
  },
  {
   "cell_type": "markdown",
   "metadata": {},
   "source": [
    "# Ultimate Data Challenge Data"
   ]
  },
  {
   "cell_type": "code",
   "execution_count": 7,
   "metadata": {},
   "outputs": [
    {
     "data": {
      "text/html": [
       "<div>\n",
       "<style scoped>\n",
       "    .dataframe tbody tr th:only-of-type {\n",
       "        vertical-align: middle;\n",
       "    }\n",
       "\n",
       "    .dataframe tbody tr th {\n",
       "        vertical-align: top;\n",
       "    }\n",
       "\n",
       "    .dataframe thead th {\n",
       "        text-align: right;\n",
       "    }\n",
       "</style>\n",
       "<table border=\"1\" class=\"dataframe\">\n",
       "  <thead>\n",
       "    <tr style=\"text-align: right;\">\n",
       "      <th></th>\n",
       "      <th>city</th>\n",
       "      <th>trips_in_first_30_days</th>\n",
       "      <th>signup_date</th>\n",
       "      <th>avg_rating_of_driver</th>\n",
       "      <th>avg_surge</th>\n",
       "      <th>last_trip_date</th>\n",
       "      <th>phone</th>\n",
       "      <th>surge_pct</th>\n",
       "      <th>ultimate_black_user</th>\n",
       "      <th>weekday_pct</th>\n",
       "      <th>avg_dist</th>\n",
       "      <th>avg_rating_by_driver</th>\n",
       "    </tr>\n",
       "  </thead>\n",
       "  <tbody>\n",
       "    <tr>\n",
       "      <th>0</th>\n",
       "      <td>King's Landing</td>\n",
       "      <td>4</td>\n",
       "      <td>2014-01-25</td>\n",
       "      <td>4.7</td>\n",
       "      <td>1.10</td>\n",
       "      <td>2014-06-17</td>\n",
       "      <td>iPhone</td>\n",
       "      <td>15.4</td>\n",
       "      <td>True</td>\n",
       "      <td>46.2</td>\n",
       "      <td>3.67</td>\n",
       "      <td>5.0</td>\n",
       "    </tr>\n",
       "    <tr>\n",
       "      <th>1</th>\n",
       "      <td>Astapor</td>\n",
       "      <td>0</td>\n",
       "      <td>2014-01-29</td>\n",
       "      <td>5.0</td>\n",
       "      <td>1.00</td>\n",
       "      <td>2014-05-05</td>\n",
       "      <td>Android</td>\n",
       "      <td>0.0</td>\n",
       "      <td>False</td>\n",
       "      <td>50.0</td>\n",
       "      <td>8.26</td>\n",
       "      <td>5.0</td>\n",
       "    </tr>\n",
       "    <tr>\n",
       "      <th>2</th>\n",
       "      <td>Astapor</td>\n",
       "      <td>3</td>\n",
       "      <td>2014-01-06</td>\n",
       "      <td>4.3</td>\n",
       "      <td>1.00</td>\n",
       "      <td>2014-01-07</td>\n",
       "      <td>iPhone</td>\n",
       "      <td>0.0</td>\n",
       "      <td>False</td>\n",
       "      <td>100.0</td>\n",
       "      <td>0.77</td>\n",
       "      <td>5.0</td>\n",
       "    </tr>\n",
       "    <tr>\n",
       "      <th>3</th>\n",
       "      <td>King's Landing</td>\n",
       "      <td>9</td>\n",
       "      <td>2014-01-10</td>\n",
       "      <td>4.6</td>\n",
       "      <td>1.14</td>\n",
       "      <td>2014-06-29</td>\n",
       "      <td>iPhone</td>\n",
       "      <td>20.0</td>\n",
       "      <td>True</td>\n",
       "      <td>80.0</td>\n",
       "      <td>2.36</td>\n",
       "      <td>4.9</td>\n",
       "    </tr>\n",
       "    <tr>\n",
       "      <th>4</th>\n",
       "      <td>Winterfell</td>\n",
       "      <td>14</td>\n",
       "      <td>2014-01-27</td>\n",
       "      <td>4.4</td>\n",
       "      <td>1.19</td>\n",
       "      <td>2014-03-15</td>\n",
       "      <td>Android</td>\n",
       "      <td>11.8</td>\n",
       "      <td>False</td>\n",
       "      <td>82.4</td>\n",
       "      <td>3.13</td>\n",
       "      <td>4.9</td>\n",
       "    </tr>\n",
       "    <tr>\n",
       "      <th>5</th>\n",
       "      <td>Winterfell</td>\n",
       "      <td>2</td>\n",
       "      <td>2014-01-09</td>\n",
       "      <td>3.5</td>\n",
       "      <td>1.00</td>\n",
       "      <td>2014-06-06</td>\n",
       "      <td>iPhone</td>\n",
       "      <td>0.0</td>\n",
       "      <td>True</td>\n",
       "      <td>100.0</td>\n",
       "      <td>10.56</td>\n",
       "      <td>5.0</td>\n",
       "    </tr>\n",
       "    <tr>\n",
       "      <th>6</th>\n",
       "      <td>Astapor</td>\n",
       "      <td>1</td>\n",
       "      <td>2014-01-24</td>\n",
       "      <td>NaN</td>\n",
       "      <td>1.00</td>\n",
       "      <td>2014-01-25</td>\n",
       "      <td>Android</td>\n",
       "      <td>0.0</td>\n",
       "      <td>False</td>\n",
       "      <td>100.0</td>\n",
       "      <td>3.95</td>\n",
       "      <td>4.0</td>\n",
       "    </tr>\n",
       "    <tr>\n",
       "      <th>7</th>\n",
       "      <td>Winterfell</td>\n",
       "      <td>2</td>\n",
       "      <td>2014-01-28</td>\n",
       "      <td>5.0</td>\n",
       "      <td>1.00</td>\n",
       "      <td>2014-01-29</td>\n",
       "      <td>iPhone</td>\n",
       "      <td>0.0</td>\n",
       "      <td>False</td>\n",
       "      <td>100.0</td>\n",
       "      <td>2.04</td>\n",
       "      <td>5.0</td>\n",
       "    </tr>\n",
       "    <tr>\n",
       "      <th>8</th>\n",
       "      <td>Winterfell</td>\n",
       "      <td>2</td>\n",
       "      <td>2014-01-21</td>\n",
       "      <td>4.5</td>\n",
       "      <td>1.00</td>\n",
       "      <td>2014-02-01</td>\n",
       "      <td>Android</td>\n",
       "      <td>0.0</td>\n",
       "      <td>False</td>\n",
       "      <td>100.0</td>\n",
       "      <td>4.36</td>\n",
       "      <td>5.0</td>\n",
       "    </tr>\n",
       "    <tr>\n",
       "      <th>9</th>\n",
       "      <td>Winterfell</td>\n",
       "      <td>1</td>\n",
       "      <td>2014-01-03</td>\n",
       "      <td>NaN</td>\n",
       "      <td>1.00</td>\n",
       "      <td>2014-01-05</td>\n",
       "      <td>Android</td>\n",
       "      <td>0.0</td>\n",
       "      <td>False</td>\n",
       "      <td>0.0</td>\n",
       "      <td>2.37</td>\n",
       "      <td>5.0</td>\n",
       "    </tr>\n",
       "    <tr>\n",
       "      <th>10</th>\n",
       "      <td>Winterfell</td>\n",
       "      <td>1</td>\n",
       "      <td>2014-01-13</td>\n",
       "      <td>5.0</td>\n",
       "      <td>1.00</td>\n",
       "      <td>2014-05-30</td>\n",
       "      <td>iPhone</td>\n",
       "      <td>0.0</td>\n",
       "      <td>True</td>\n",
       "      <td>100.0</td>\n",
       "      <td>4.28</td>\n",
       "      <td>4.9</td>\n",
       "    </tr>\n",
       "    <tr>\n",
       "      <th>11</th>\n",
       "      <td>Winterfell</td>\n",
       "      <td>3</td>\n",
       "      <td>2014-01-06</td>\n",
       "      <td>4.0</td>\n",
       "      <td>1.00</td>\n",
       "      <td>2014-01-10</td>\n",
       "      <td>iPhone</td>\n",
       "      <td>0.0</td>\n",
       "      <td>False</td>\n",
       "      <td>100.0</td>\n",
       "      <td>3.81</td>\n",
       "      <td>5.0</td>\n",
       "    </tr>\n",
       "    <tr>\n",
       "      <th>12</th>\n",
       "      <td>Winterfell</td>\n",
       "      <td>1</td>\n",
       "      <td>2014-01-15</td>\n",
       "      <td>NaN</td>\n",
       "      <td>1.00</td>\n",
       "      <td>2014-03-12</td>\n",
       "      <td>iPhone</td>\n",
       "      <td>0.0</td>\n",
       "      <td>False</td>\n",
       "      <td>100.0</td>\n",
       "      <td>20.29</td>\n",
       "      <td>5.0</td>\n",
       "    </tr>\n",
       "    <tr>\n",
       "      <th>13</th>\n",
       "      <td>King's Landing</td>\n",
       "      <td>0</td>\n",
       "      <td>2014-01-29</td>\n",
       "      <td>4.0</td>\n",
       "      <td>1.38</td>\n",
       "      <td>2014-06-08</td>\n",
       "      <td>iPhone</td>\n",
       "      <td>50.0</td>\n",
       "      <td>False</td>\n",
       "      <td>50.0</td>\n",
       "      <td>3.04</td>\n",
       "      <td>5.0</td>\n",
       "    </tr>\n",
       "    <tr>\n",
       "      <th>14</th>\n",
       "      <td>Astapor</td>\n",
       "      <td>1</td>\n",
       "      <td>2014-01-27</td>\n",
       "      <td>NaN</td>\n",
       "      <td>1.00</td>\n",
       "      <td>2014-01-28</td>\n",
       "      <td>Android</td>\n",
       "      <td>0.0</td>\n",
       "      <td>False</td>\n",
       "      <td>100.0</td>\n",
       "      <td>26.01</td>\n",
       "      <td>5.0</td>\n",
       "    </tr>\n",
       "    <tr>\n",
       "      <th>15</th>\n",
       "      <td>Winterfell</td>\n",
       "      <td>1</td>\n",
       "      <td>2014-01-15</td>\n",
       "      <td>NaN</td>\n",
       "      <td>1.00</td>\n",
       "      <td>2014-01-16</td>\n",
       "      <td>Android</td>\n",
       "      <td>0.0</td>\n",
       "      <td>True</td>\n",
       "      <td>100.0</td>\n",
       "      <td>13.20</td>\n",
       "      <td>5.0</td>\n",
       "    </tr>\n",
       "    <tr>\n",
       "      <th>16</th>\n",
       "      <td>King's Landing</td>\n",
       "      <td>1</td>\n",
       "      <td>2014-01-11</td>\n",
       "      <td>5.0</td>\n",
       "      <td>1.00</td>\n",
       "      <td>2014-06-28</td>\n",
       "      <td>Android</td>\n",
       "      <td>0.0</td>\n",
       "      <td>True</td>\n",
       "      <td>50.0</td>\n",
       "      <td>10.86</td>\n",
       "      <td>3.0</td>\n",
       "    </tr>\n",
       "    <tr>\n",
       "      <th>17</th>\n",
       "      <td>King's Landing</td>\n",
       "      <td>0</td>\n",
       "      <td>2014-01-12</td>\n",
       "      <td>3.9</td>\n",
       "      <td>1.00</td>\n",
       "      <td>2014-07-01</td>\n",
       "      <td>iPhone</td>\n",
       "      <td>0.0</td>\n",
       "      <td>True</td>\n",
       "      <td>95.2</td>\n",
       "      <td>2.38</td>\n",
       "      <td>4.8</td>\n",
       "    </tr>\n",
       "    <tr>\n",
       "      <th>18</th>\n",
       "      <td>King's Landing</td>\n",
       "      <td>6</td>\n",
       "      <td>2014-01-28</td>\n",
       "      <td>4.6</td>\n",
       "      <td>1.21</td>\n",
       "      <td>2014-06-24</td>\n",
       "      <td>iPhone</td>\n",
       "      <td>30.8</td>\n",
       "      <td>True</td>\n",
       "      <td>80.8</td>\n",
       "      <td>6.83</td>\n",
       "      <td>4.8</td>\n",
       "    </tr>\n",
       "    <tr>\n",
       "      <th>19</th>\n",
       "      <td>King's Landing</td>\n",
       "      <td>0</td>\n",
       "      <td>2014-01-02</td>\n",
       "      <td>5.0</td>\n",
       "      <td>1.17</td>\n",
       "      <td>2014-06-03</td>\n",
       "      <td>iPhone</td>\n",
       "      <td>33.3</td>\n",
       "      <td>False</td>\n",
       "      <td>66.7</td>\n",
       "      <td>12.08</td>\n",
       "      <td>5.0</td>\n",
       "    </tr>\n",
       "    <tr>\n",
       "      <th>20</th>\n",
       "      <td>Winterfell</td>\n",
       "      <td>1</td>\n",
       "      <td>2014-01-31</td>\n",
       "      <td>NaN</td>\n",
       "      <td>1.00</td>\n",
       "      <td>2014-03-16</td>\n",
       "      <td>Android</td>\n",
       "      <td>0.0</td>\n",
       "      <td>False</td>\n",
       "      <td>50.0</td>\n",
       "      <td>2.53</td>\n",
       "      <td>3.0</td>\n",
       "    </tr>\n",
       "    <tr>\n",
       "      <th>21</th>\n",
       "      <td>Astapor</td>\n",
       "      <td>1</td>\n",
       "      <td>2014-01-09</td>\n",
       "      <td>NaN</td>\n",
       "      <td>1.00</td>\n",
       "      <td>2014-04-29</td>\n",
       "      <td>iPhone</td>\n",
       "      <td>0.0</td>\n",
       "      <td>False</td>\n",
       "      <td>100.0</td>\n",
       "      <td>3.31</td>\n",
       "      <td>5.0</td>\n",
       "    </tr>\n",
       "    <tr>\n",
       "      <th>22</th>\n",
       "      <td>Winterfell</td>\n",
       "      <td>0</td>\n",
       "      <td>2014-01-24</td>\n",
       "      <td>NaN</td>\n",
       "      <td>1.00</td>\n",
       "      <td>2014-05-02</td>\n",
       "      <td>iPhone</td>\n",
       "      <td>0.0</td>\n",
       "      <td>False</td>\n",
       "      <td>100.0</td>\n",
       "      <td>11.47</td>\n",
       "      <td>5.0</td>\n",
       "    </tr>\n",
       "    <tr>\n",
       "      <th>23</th>\n",
       "      <td>King's Landing</td>\n",
       "      <td>0</td>\n",
       "      <td>2014-01-21</td>\n",
       "      <td>5.0</td>\n",
       "      <td>1.00</td>\n",
       "      <td>2014-06-13</td>\n",
       "      <td>Android</td>\n",
       "      <td>0.0</td>\n",
       "      <td>True</td>\n",
       "      <td>100.0</td>\n",
       "      <td>7.74</td>\n",
       "      <td>5.0</td>\n",
       "    </tr>\n",
       "    <tr>\n",
       "      <th>24</th>\n",
       "      <td>Astapor</td>\n",
       "      <td>4</td>\n",
       "      <td>2014-01-19</td>\n",
       "      <td>4.5</td>\n",
       "      <td>1.02</td>\n",
       "      <td>2014-05-18</td>\n",
       "      <td>iPhone</td>\n",
       "      <td>9.1</td>\n",
       "      <td>False</td>\n",
       "      <td>36.4</td>\n",
       "      <td>2.10</td>\n",
       "      <td>4.7</td>\n",
       "    </tr>\n",
       "    <tr>\n",
       "      <th>25</th>\n",
       "      <td>Winterfell</td>\n",
       "      <td>1</td>\n",
       "      <td>2014-01-02</td>\n",
       "      <td>NaN</td>\n",
       "      <td>1.00</td>\n",
       "      <td>2014-01-03</td>\n",
       "      <td>iPhone</td>\n",
       "      <td>0.0</td>\n",
       "      <td>True</td>\n",
       "      <td>100.0</td>\n",
       "      <td>14.48</td>\n",
       "      <td>5.0</td>\n",
       "    </tr>\n",
       "    <tr>\n",
       "      <th>26</th>\n",
       "      <td>Astapor</td>\n",
       "      <td>1</td>\n",
       "      <td>2014-01-16</td>\n",
       "      <td>4.0</td>\n",
       "      <td>1.00</td>\n",
       "      <td>2014-01-22</td>\n",
       "      <td>Android</td>\n",
       "      <td>0.0</td>\n",
       "      <td>False</td>\n",
       "      <td>100.0</td>\n",
       "      <td>1.66</td>\n",
       "      <td>5.0</td>\n",
       "    </tr>\n",
       "    <tr>\n",
       "      <th>27</th>\n",
       "      <td>Winterfell</td>\n",
       "      <td>3</td>\n",
       "      <td>2014-01-19</td>\n",
       "      <td>5.0</td>\n",
       "      <td>1.05</td>\n",
       "      <td>2014-03-05</td>\n",
       "      <td>iPhone</td>\n",
       "      <td>20.0</td>\n",
       "      <td>False</td>\n",
       "      <td>100.0</td>\n",
       "      <td>3.05</td>\n",
       "      <td>5.0</td>\n",
       "    </tr>\n",
       "    <tr>\n",
       "      <th>28</th>\n",
       "      <td>Winterfell</td>\n",
       "      <td>0</td>\n",
       "      <td>2014-01-19</td>\n",
       "      <td>NaN</td>\n",
       "      <td>1.50</td>\n",
       "      <td>2014-06-08</td>\n",
       "      <td>iPhone</td>\n",
       "      <td>100.0</td>\n",
       "      <td>False</td>\n",
       "      <td>0.0</td>\n",
       "      <td>5.97</td>\n",
       "      <td>5.0</td>\n",
       "    </tr>\n",
       "    <tr>\n",
       "      <th>29</th>\n",
       "      <td>Astapor</td>\n",
       "      <td>1</td>\n",
       "      <td>2014-01-27</td>\n",
       "      <td>4.0</td>\n",
       "      <td>1.00</td>\n",
       "      <td>2014-02-27</td>\n",
       "      <td>Android</td>\n",
       "      <td>0.0</td>\n",
       "      <td>False</td>\n",
       "      <td>100.0</td>\n",
       "      <td>11.25</td>\n",
       "      <td>5.0</td>\n",
       "    </tr>\n",
       "    <tr>\n",
       "      <th>...</th>\n",
       "      <td>...</td>\n",
       "      <td>...</td>\n",
       "      <td>...</td>\n",
       "      <td>...</td>\n",
       "      <td>...</td>\n",
       "      <td>...</td>\n",
       "      <td>...</td>\n",
       "      <td>...</td>\n",
       "      <td>...</td>\n",
       "      <td>...</td>\n",
       "      <td>...</td>\n",
       "      <td>...</td>\n",
       "    </tr>\n",
       "    <tr>\n",
       "      <th>49970</th>\n",
       "      <td>Winterfell</td>\n",
       "      <td>2</td>\n",
       "      <td>2014-01-16</td>\n",
       "      <td>4.3</td>\n",
       "      <td>1.00</td>\n",
       "      <td>2014-04-14</td>\n",
       "      <td>iPhone</td>\n",
       "      <td>0.0</td>\n",
       "      <td>False</td>\n",
       "      <td>0.0</td>\n",
       "      <td>5.62</td>\n",
       "      <td>5.0</td>\n",
       "    </tr>\n",
       "    <tr>\n",
       "      <th>49971</th>\n",
       "      <td>King's Landing</td>\n",
       "      <td>0</td>\n",
       "      <td>2014-01-12</td>\n",
       "      <td>NaN</td>\n",
       "      <td>1.00</td>\n",
       "      <td>2014-06-14</td>\n",
       "      <td>iPhone</td>\n",
       "      <td>0.0</td>\n",
       "      <td>True</td>\n",
       "      <td>100.0</td>\n",
       "      <td>4.69</td>\n",
       "      <td>5.0</td>\n",
       "    </tr>\n",
       "    <tr>\n",
       "      <th>49972</th>\n",
       "      <td>Winterfell</td>\n",
       "      <td>1</td>\n",
       "      <td>2014-01-12</td>\n",
       "      <td>4.0</td>\n",
       "      <td>1.25</td>\n",
       "      <td>2014-06-29</td>\n",
       "      <td>iPhone</td>\n",
       "      <td>50.0</td>\n",
       "      <td>False</td>\n",
       "      <td>0.0</td>\n",
       "      <td>4.60</td>\n",
       "      <td>3.5</td>\n",
       "    </tr>\n",
       "    <tr>\n",
       "      <th>49973</th>\n",
       "      <td>Astapor</td>\n",
       "      <td>2</td>\n",
       "      <td>2014-01-01</td>\n",
       "      <td>4.0</td>\n",
       "      <td>1.00</td>\n",
       "      <td>2014-06-28</td>\n",
       "      <td>iPhone</td>\n",
       "      <td>0.0</td>\n",
       "      <td>True</td>\n",
       "      <td>25.0</td>\n",
       "      <td>4.07</td>\n",
       "      <td>5.0</td>\n",
       "    </tr>\n",
       "    <tr>\n",
       "      <th>49974</th>\n",
       "      <td>Winterfell</td>\n",
       "      <td>1</td>\n",
       "      <td>2014-01-05</td>\n",
       "      <td>5.0</td>\n",
       "      <td>2.00</td>\n",
       "      <td>2014-01-18</td>\n",
       "      <td>iPhone</td>\n",
       "      <td>100.0</td>\n",
       "      <td>False</td>\n",
       "      <td>100.0</td>\n",
       "      <td>4.63</td>\n",
       "      <td>5.0</td>\n",
       "    </tr>\n",
       "    <tr>\n",
       "      <th>49975</th>\n",
       "      <td>Winterfell</td>\n",
       "      <td>11</td>\n",
       "      <td>2014-01-11</td>\n",
       "      <td>3.9</td>\n",
       "      <td>1.03</td>\n",
       "      <td>2014-06-18</td>\n",
       "      <td>iPhone</td>\n",
       "      <td>4.1</td>\n",
       "      <td>False</td>\n",
       "      <td>91.8</td>\n",
       "      <td>2.18</td>\n",
       "      <td>4.8</td>\n",
       "    </tr>\n",
       "    <tr>\n",
       "      <th>49976</th>\n",
       "      <td>King's Landing</td>\n",
       "      <td>0</td>\n",
       "      <td>2014-01-21</td>\n",
       "      <td>2.0</td>\n",
       "      <td>1.00</td>\n",
       "      <td>2014-07-01</td>\n",
       "      <td>iPhone</td>\n",
       "      <td>0.0</td>\n",
       "      <td>False</td>\n",
       "      <td>100.0</td>\n",
       "      <td>2.39</td>\n",
       "      <td>4.0</td>\n",
       "    </tr>\n",
       "    <tr>\n",
       "      <th>49977</th>\n",
       "      <td>Astapor</td>\n",
       "      <td>4</td>\n",
       "      <td>2014-01-06</td>\n",
       "      <td>5.0</td>\n",
       "      <td>1.00</td>\n",
       "      <td>2014-01-09</td>\n",
       "      <td>Android</td>\n",
       "      <td>0.0</td>\n",
       "      <td>False</td>\n",
       "      <td>100.0</td>\n",
       "      <td>8.71</td>\n",
       "      <td>5.0</td>\n",
       "    </tr>\n",
       "    <tr>\n",
       "      <th>49978</th>\n",
       "      <td>Winterfell</td>\n",
       "      <td>1</td>\n",
       "      <td>2014-01-17</td>\n",
       "      <td>4.5</td>\n",
       "      <td>1.00</td>\n",
       "      <td>2014-05-03</td>\n",
       "      <td>Android</td>\n",
       "      <td>0.0</td>\n",
       "      <td>False</td>\n",
       "      <td>50.0</td>\n",
       "      <td>6.02</td>\n",
       "      <td>5.0</td>\n",
       "    </tr>\n",
       "    <tr>\n",
       "      <th>49979</th>\n",
       "      <td>Winterfell</td>\n",
       "      <td>0</td>\n",
       "      <td>2014-01-24</td>\n",
       "      <td>4.0</td>\n",
       "      <td>1.00</td>\n",
       "      <td>2014-04-07</td>\n",
       "      <td>Android</td>\n",
       "      <td>0.0</td>\n",
       "      <td>True</td>\n",
       "      <td>50.0</td>\n",
       "      <td>3.81</td>\n",
       "      <td>4.8</td>\n",
       "    </tr>\n",
       "    <tr>\n",
       "      <th>49980</th>\n",
       "      <td>Astapor</td>\n",
       "      <td>1</td>\n",
       "      <td>2014-01-05</td>\n",
       "      <td>NaN</td>\n",
       "      <td>1.00</td>\n",
       "      <td>2014-01-20</td>\n",
       "      <td>Android</td>\n",
       "      <td>0.0</td>\n",
       "      <td>False</td>\n",
       "      <td>100.0</td>\n",
       "      <td>14.42</td>\n",
       "      <td>5.0</td>\n",
       "    </tr>\n",
       "    <tr>\n",
       "      <th>49981</th>\n",
       "      <td>Astapor</td>\n",
       "      <td>0</td>\n",
       "      <td>2014-01-26</td>\n",
       "      <td>4.0</td>\n",
       "      <td>1.00</td>\n",
       "      <td>2014-03-16</td>\n",
       "      <td>iPhone</td>\n",
       "      <td>0.0</td>\n",
       "      <td>True</td>\n",
       "      <td>0.0</td>\n",
       "      <td>5.49</td>\n",
       "      <td>5.0</td>\n",
       "    </tr>\n",
       "    <tr>\n",
       "      <th>49982</th>\n",
       "      <td>King's Landing</td>\n",
       "      <td>0</td>\n",
       "      <td>2014-01-21</td>\n",
       "      <td>5.0</td>\n",
       "      <td>1.00</td>\n",
       "      <td>2014-04-24</td>\n",
       "      <td>iPhone</td>\n",
       "      <td>0.0</td>\n",
       "      <td>False</td>\n",
       "      <td>100.0</td>\n",
       "      <td>15.23</td>\n",
       "      <td>5.0</td>\n",
       "    </tr>\n",
       "    <tr>\n",
       "      <th>49983</th>\n",
       "      <td>Winterfell</td>\n",
       "      <td>1</td>\n",
       "      <td>2014-01-27</td>\n",
       "      <td>1.0</td>\n",
       "      <td>1.00</td>\n",
       "      <td>2014-02-26</td>\n",
       "      <td>Android</td>\n",
       "      <td>0.0</td>\n",
       "      <td>False</td>\n",
       "      <td>100.0</td>\n",
       "      <td>30.39</td>\n",
       "      <td>5.0</td>\n",
       "    </tr>\n",
       "    <tr>\n",
       "      <th>49984</th>\n",
       "      <td>Winterfell</td>\n",
       "      <td>1</td>\n",
       "      <td>2014-01-26</td>\n",
       "      <td>NaN</td>\n",
       "      <td>1.00</td>\n",
       "      <td>2014-01-26</td>\n",
       "      <td>Android</td>\n",
       "      <td>0.0</td>\n",
       "      <td>False</td>\n",
       "      <td>0.0</td>\n",
       "      <td>3.50</td>\n",
       "      <td>5.0</td>\n",
       "    </tr>\n",
       "    <tr>\n",
       "      <th>49985</th>\n",
       "      <td>Astapor</td>\n",
       "      <td>1</td>\n",
       "      <td>2014-01-26</td>\n",
       "      <td>NaN</td>\n",
       "      <td>1.00</td>\n",
       "      <td>2014-02-25</td>\n",
       "      <td>Android</td>\n",
       "      <td>0.0</td>\n",
       "      <td>False</td>\n",
       "      <td>100.0</td>\n",
       "      <td>1.38</td>\n",
       "      <td>5.0</td>\n",
       "    </tr>\n",
       "    <tr>\n",
       "      <th>49986</th>\n",
       "      <td>Winterfell</td>\n",
       "      <td>0</td>\n",
       "      <td>2014-01-21</td>\n",
       "      <td>4.0</td>\n",
       "      <td>1.00</td>\n",
       "      <td>2014-05-23</td>\n",
       "      <td>Android</td>\n",
       "      <td>0.0</td>\n",
       "      <td>False</td>\n",
       "      <td>100.0</td>\n",
       "      <td>0.52</td>\n",
       "      <td>5.0</td>\n",
       "    </tr>\n",
       "    <tr>\n",
       "      <th>49987</th>\n",
       "      <td>Winterfell</td>\n",
       "      <td>3</td>\n",
       "      <td>2014-01-27</td>\n",
       "      <td>4.6</td>\n",
       "      <td>1.00</td>\n",
       "      <td>2014-05-31</td>\n",
       "      <td>iPhone</td>\n",
       "      <td>0.0</td>\n",
       "      <td>False</td>\n",
       "      <td>80.0</td>\n",
       "      <td>4.24</td>\n",
       "      <td>4.0</td>\n",
       "    </tr>\n",
       "    <tr>\n",
       "      <th>49988</th>\n",
       "      <td>King's Landing</td>\n",
       "      <td>1</td>\n",
       "      <td>2014-01-20</td>\n",
       "      <td>4.5</td>\n",
       "      <td>1.00</td>\n",
       "      <td>2014-06-14</td>\n",
       "      <td>iPhone</td>\n",
       "      <td>0.0</td>\n",
       "      <td>False</td>\n",
       "      <td>50.0</td>\n",
       "      <td>2.53</td>\n",
       "      <td>5.0</td>\n",
       "    </tr>\n",
       "    <tr>\n",
       "      <th>49989</th>\n",
       "      <td>Winterfell</td>\n",
       "      <td>1</td>\n",
       "      <td>2014-01-24</td>\n",
       "      <td>NaN</td>\n",
       "      <td>1.00</td>\n",
       "      <td>2014-01-31</td>\n",
       "      <td>iPhone</td>\n",
       "      <td>0.0</td>\n",
       "      <td>False</td>\n",
       "      <td>100.0</td>\n",
       "      <td>0.00</td>\n",
       "      <td>5.0</td>\n",
       "    </tr>\n",
       "    <tr>\n",
       "      <th>49990</th>\n",
       "      <td>Astapor</td>\n",
       "      <td>1</td>\n",
       "      <td>2014-01-13</td>\n",
       "      <td>4.7</td>\n",
       "      <td>1.08</td>\n",
       "      <td>2014-05-18</td>\n",
       "      <td>iPhone</td>\n",
       "      <td>33.3</td>\n",
       "      <td>True</td>\n",
       "      <td>33.3</td>\n",
       "      <td>3.38</td>\n",
       "      <td>5.0</td>\n",
       "    </tr>\n",
       "    <tr>\n",
       "      <th>49991</th>\n",
       "      <td>Winterfell</td>\n",
       "      <td>0</td>\n",
       "      <td>2014-01-08</td>\n",
       "      <td>5.0</td>\n",
       "      <td>1.25</td>\n",
       "      <td>2014-06-29</td>\n",
       "      <td>iPhone</td>\n",
       "      <td>100.0</td>\n",
       "      <td>False</td>\n",
       "      <td>0.0</td>\n",
       "      <td>1.06</td>\n",
       "      <td>5.0</td>\n",
       "    </tr>\n",
       "    <tr>\n",
       "      <th>49992</th>\n",
       "      <td>King's Landing</td>\n",
       "      <td>1</td>\n",
       "      <td>2014-01-18</td>\n",
       "      <td>1.0</td>\n",
       "      <td>1.00</td>\n",
       "      <td>2014-01-19</td>\n",
       "      <td>iPhone</td>\n",
       "      <td>0.0</td>\n",
       "      <td>False</td>\n",
       "      <td>0.0</td>\n",
       "      <td>7.58</td>\n",
       "      <td>5.0</td>\n",
       "    </tr>\n",
       "    <tr>\n",
       "      <th>49993</th>\n",
       "      <td>Astapor</td>\n",
       "      <td>3</td>\n",
       "      <td>2014-01-03</td>\n",
       "      <td>4.8</td>\n",
       "      <td>1.11</td>\n",
       "      <td>2014-07-01</td>\n",
       "      <td>iPhone</td>\n",
       "      <td>11.1</td>\n",
       "      <td>True</td>\n",
       "      <td>55.6</td>\n",
       "      <td>2.53</td>\n",
       "      <td>4.7</td>\n",
       "    </tr>\n",
       "    <tr>\n",
       "      <th>49994</th>\n",
       "      <td>Astapor</td>\n",
       "      <td>1</td>\n",
       "      <td>2014-01-03</td>\n",
       "      <td>4.6</td>\n",
       "      <td>1.44</td>\n",
       "      <td>2014-05-31</td>\n",
       "      <td>iPhone</td>\n",
       "      <td>37.5</td>\n",
       "      <td>False</td>\n",
       "      <td>25.0</td>\n",
       "      <td>2.25</td>\n",
       "      <td>4.5</td>\n",
       "    </tr>\n",
       "    <tr>\n",
       "      <th>49995</th>\n",
       "      <td>King's Landing</td>\n",
       "      <td>0</td>\n",
       "      <td>2014-01-25</td>\n",
       "      <td>5.0</td>\n",
       "      <td>1.00</td>\n",
       "      <td>2014-06-05</td>\n",
       "      <td>iPhone</td>\n",
       "      <td>0.0</td>\n",
       "      <td>False</td>\n",
       "      <td>100.0</td>\n",
       "      <td>5.63</td>\n",
       "      <td>4.2</td>\n",
       "    </tr>\n",
       "    <tr>\n",
       "      <th>49996</th>\n",
       "      <td>Astapor</td>\n",
       "      <td>1</td>\n",
       "      <td>2014-01-24</td>\n",
       "      <td>NaN</td>\n",
       "      <td>1.00</td>\n",
       "      <td>2014-01-25</td>\n",
       "      <td>iPhone</td>\n",
       "      <td>0.0</td>\n",
       "      <td>False</td>\n",
       "      <td>0.0</td>\n",
       "      <td>0.00</td>\n",
       "      <td>4.0</td>\n",
       "    </tr>\n",
       "    <tr>\n",
       "      <th>49997</th>\n",
       "      <td>Winterfell</td>\n",
       "      <td>0</td>\n",
       "      <td>2014-01-31</td>\n",
       "      <td>5.0</td>\n",
       "      <td>1.00</td>\n",
       "      <td>2014-05-22</td>\n",
       "      <td>Android</td>\n",
       "      <td>0.0</td>\n",
       "      <td>True</td>\n",
       "      <td>100.0</td>\n",
       "      <td>3.86</td>\n",
       "      <td>5.0</td>\n",
       "    </tr>\n",
       "    <tr>\n",
       "      <th>49998</th>\n",
       "      <td>Astapor</td>\n",
       "      <td>2</td>\n",
       "      <td>2014-01-14</td>\n",
       "      <td>3.0</td>\n",
       "      <td>1.00</td>\n",
       "      <td>2014-01-15</td>\n",
       "      <td>iPhone</td>\n",
       "      <td>0.0</td>\n",
       "      <td>False</td>\n",
       "      <td>100.0</td>\n",
       "      <td>4.58</td>\n",
       "      <td>3.5</td>\n",
       "    </tr>\n",
       "    <tr>\n",
       "      <th>49999</th>\n",
       "      <td>Astapor</td>\n",
       "      <td>0</td>\n",
       "      <td>2014-01-18</td>\n",
       "      <td>NaN</td>\n",
       "      <td>1.00</td>\n",
       "      <td>2014-04-20</td>\n",
       "      <td>Android</td>\n",
       "      <td>0.0</td>\n",
       "      <td>False</td>\n",
       "      <td>0.0</td>\n",
       "      <td>3.49</td>\n",
       "      <td>5.0</td>\n",
       "    </tr>\n",
       "  </tbody>\n",
       "</table>\n",
       "<p>50000 rows × 12 columns</p>\n",
       "</div>"
      ],
      "text/plain": [
       "                 city  trips_in_first_30_days signup_date  \\\n",
       "0      King's Landing                       4  2014-01-25   \n",
       "1             Astapor                       0  2014-01-29   \n",
       "2             Astapor                       3  2014-01-06   \n",
       "3      King's Landing                       9  2014-01-10   \n",
       "4          Winterfell                      14  2014-01-27   \n",
       "5          Winterfell                       2  2014-01-09   \n",
       "6             Astapor                       1  2014-01-24   \n",
       "7          Winterfell                       2  2014-01-28   \n",
       "8          Winterfell                       2  2014-01-21   \n",
       "9          Winterfell                       1  2014-01-03   \n",
       "10         Winterfell                       1  2014-01-13   \n",
       "11         Winterfell                       3  2014-01-06   \n",
       "12         Winterfell                       1  2014-01-15   \n",
       "13     King's Landing                       0  2014-01-29   \n",
       "14            Astapor                       1  2014-01-27   \n",
       "15         Winterfell                       1  2014-01-15   \n",
       "16     King's Landing                       1  2014-01-11   \n",
       "17     King's Landing                       0  2014-01-12   \n",
       "18     King's Landing                       6  2014-01-28   \n",
       "19     King's Landing                       0  2014-01-02   \n",
       "20         Winterfell                       1  2014-01-31   \n",
       "21            Astapor                       1  2014-01-09   \n",
       "22         Winterfell                       0  2014-01-24   \n",
       "23     King's Landing                       0  2014-01-21   \n",
       "24            Astapor                       4  2014-01-19   \n",
       "25         Winterfell                       1  2014-01-02   \n",
       "26            Astapor                       1  2014-01-16   \n",
       "27         Winterfell                       3  2014-01-19   \n",
       "28         Winterfell                       0  2014-01-19   \n",
       "29            Astapor                       1  2014-01-27   \n",
       "...               ...                     ...         ...   \n",
       "49970      Winterfell                       2  2014-01-16   \n",
       "49971  King's Landing                       0  2014-01-12   \n",
       "49972      Winterfell                       1  2014-01-12   \n",
       "49973         Astapor                       2  2014-01-01   \n",
       "49974      Winterfell                       1  2014-01-05   \n",
       "49975      Winterfell                      11  2014-01-11   \n",
       "49976  King's Landing                       0  2014-01-21   \n",
       "49977         Astapor                       4  2014-01-06   \n",
       "49978      Winterfell                       1  2014-01-17   \n",
       "49979      Winterfell                       0  2014-01-24   \n",
       "49980         Astapor                       1  2014-01-05   \n",
       "49981         Astapor                       0  2014-01-26   \n",
       "49982  King's Landing                       0  2014-01-21   \n",
       "49983      Winterfell                       1  2014-01-27   \n",
       "49984      Winterfell                       1  2014-01-26   \n",
       "49985         Astapor                       1  2014-01-26   \n",
       "49986      Winterfell                       0  2014-01-21   \n",
       "49987      Winterfell                       3  2014-01-27   \n",
       "49988  King's Landing                       1  2014-01-20   \n",
       "49989      Winterfell                       1  2014-01-24   \n",
       "49990         Astapor                       1  2014-01-13   \n",
       "49991      Winterfell                       0  2014-01-08   \n",
       "49992  King's Landing                       1  2014-01-18   \n",
       "49993         Astapor                       3  2014-01-03   \n",
       "49994         Astapor                       1  2014-01-03   \n",
       "49995  King's Landing                       0  2014-01-25   \n",
       "49996         Astapor                       1  2014-01-24   \n",
       "49997      Winterfell                       0  2014-01-31   \n",
       "49998         Astapor                       2  2014-01-14   \n",
       "49999         Astapor                       0  2014-01-18   \n",
       "\n",
       "       avg_rating_of_driver  avg_surge last_trip_date    phone  surge_pct  \\\n",
       "0                       4.7       1.10     2014-06-17   iPhone       15.4   \n",
       "1                       5.0       1.00     2014-05-05  Android        0.0   \n",
       "2                       4.3       1.00     2014-01-07   iPhone        0.0   \n",
       "3                       4.6       1.14     2014-06-29   iPhone       20.0   \n",
       "4                       4.4       1.19     2014-03-15  Android       11.8   \n",
       "5                       3.5       1.00     2014-06-06   iPhone        0.0   \n",
       "6                       NaN       1.00     2014-01-25  Android        0.0   \n",
       "7                       5.0       1.00     2014-01-29   iPhone        0.0   \n",
       "8                       4.5       1.00     2014-02-01  Android        0.0   \n",
       "9                       NaN       1.00     2014-01-05  Android        0.0   \n",
       "10                      5.0       1.00     2014-05-30   iPhone        0.0   \n",
       "11                      4.0       1.00     2014-01-10   iPhone        0.0   \n",
       "12                      NaN       1.00     2014-03-12   iPhone        0.0   \n",
       "13                      4.0       1.38     2014-06-08   iPhone       50.0   \n",
       "14                      NaN       1.00     2014-01-28  Android        0.0   \n",
       "15                      NaN       1.00     2014-01-16  Android        0.0   \n",
       "16                      5.0       1.00     2014-06-28  Android        0.0   \n",
       "17                      3.9       1.00     2014-07-01   iPhone        0.0   \n",
       "18                      4.6       1.21     2014-06-24   iPhone       30.8   \n",
       "19                      5.0       1.17     2014-06-03   iPhone       33.3   \n",
       "20                      NaN       1.00     2014-03-16  Android        0.0   \n",
       "21                      NaN       1.00     2014-04-29   iPhone        0.0   \n",
       "22                      NaN       1.00     2014-05-02   iPhone        0.0   \n",
       "23                      5.0       1.00     2014-06-13  Android        0.0   \n",
       "24                      4.5       1.02     2014-05-18   iPhone        9.1   \n",
       "25                      NaN       1.00     2014-01-03   iPhone        0.0   \n",
       "26                      4.0       1.00     2014-01-22  Android        0.0   \n",
       "27                      5.0       1.05     2014-03-05   iPhone       20.0   \n",
       "28                      NaN       1.50     2014-06-08   iPhone      100.0   \n",
       "29                      4.0       1.00     2014-02-27  Android        0.0   \n",
       "...                     ...        ...            ...      ...        ...   \n",
       "49970                   4.3       1.00     2014-04-14   iPhone        0.0   \n",
       "49971                   NaN       1.00     2014-06-14   iPhone        0.0   \n",
       "49972                   4.0       1.25     2014-06-29   iPhone       50.0   \n",
       "49973                   4.0       1.00     2014-06-28   iPhone        0.0   \n",
       "49974                   5.0       2.00     2014-01-18   iPhone      100.0   \n",
       "49975                   3.9       1.03     2014-06-18   iPhone        4.1   \n",
       "49976                   2.0       1.00     2014-07-01   iPhone        0.0   \n",
       "49977                   5.0       1.00     2014-01-09  Android        0.0   \n",
       "49978                   4.5       1.00     2014-05-03  Android        0.0   \n",
       "49979                   4.0       1.00     2014-04-07  Android        0.0   \n",
       "49980                   NaN       1.00     2014-01-20  Android        0.0   \n",
       "49981                   4.0       1.00     2014-03-16   iPhone        0.0   \n",
       "49982                   5.0       1.00     2014-04-24   iPhone        0.0   \n",
       "49983                   1.0       1.00     2014-02-26  Android        0.0   \n",
       "49984                   NaN       1.00     2014-01-26  Android        0.0   \n",
       "49985                   NaN       1.00     2014-02-25  Android        0.0   \n",
       "49986                   4.0       1.00     2014-05-23  Android        0.0   \n",
       "49987                   4.6       1.00     2014-05-31   iPhone        0.0   \n",
       "49988                   4.5       1.00     2014-06-14   iPhone        0.0   \n",
       "49989                   NaN       1.00     2014-01-31   iPhone        0.0   \n",
       "49990                   4.7       1.08     2014-05-18   iPhone       33.3   \n",
       "49991                   5.0       1.25     2014-06-29   iPhone      100.0   \n",
       "49992                   1.0       1.00     2014-01-19   iPhone        0.0   \n",
       "49993                   4.8       1.11     2014-07-01   iPhone       11.1   \n",
       "49994                   4.6       1.44     2014-05-31   iPhone       37.5   \n",
       "49995                   5.0       1.00     2014-06-05   iPhone        0.0   \n",
       "49996                   NaN       1.00     2014-01-25   iPhone        0.0   \n",
       "49997                   5.0       1.00     2014-05-22  Android        0.0   \n",
       "49998                   3.0       1.00     2014-01-15   iPhone        0.0   \n",
       "49999                   NaN       1.00     2014-04-20  Android        0.0   \n",
       "\n",
       "       ultimate_black_user  weekday_pct  avg_dist  avg_rating_by_driver  \n",
       "0                     True         46.2      3.67                   5.0  \n",
       "1                    False         50.0      8.26                   5.0  \n",
       "2                    False        100.0      0.77                   5.0  \n",
       "3                     True         80.0      2.36                   4.9  \n",
       "4                    False         82.4      3.13                   4.9  \n",
       "5                     True        100.0     10.56                   5.0  \n",
       "6                    False        100.0      3.95                   4.0  \n",
       "7                    False        100.0      2.04                   5.0  \n",
       "8                    False        100.0      4.36                   5.0  \n",
       "9                    False          0.0      2.37                   5.0  \n",
       "10                    True        100.0      4.28                   4.9  \n",
       "11                   False        100.0      3.81                   5.0  \n",
       "12                   False        100.0     20.29                   5.0  \n",
       "13                   False         50.0      3.04                   5.0  \n",
       "14                   False        100.0     26.01                   5.0  \n",
       "15                    True        100.0     13.20                   5.0  \n",
       "16                    True         50.0     10.86                   3.0  \n",
       "17                    True         95.2      2.38                   4.8  \n",
       "18                    True         80.8      6.83                   4.8  \n",
       "19                   False         66.7     12.08                   5.0  \n",
       "20                   False         50.0      2.53                   3.0  \n",
       "21                   False        100.0      3.31                   5.0  \n",
       "22                   False        100.0     11.47                   5.0  \n",
       "23                    True        100.0      7.74                   5.0  \n",
       "24                   False         36.4      2.10                   4.7  \n",
       "25                    True        100.0     14.48                   5.0  \n",
       "26                   False        100.0      1.66                   5.0  \n",
       "27                   False        100.0      3.05                   5.0  \n",
       "28                   False          0.0      5.97                   5.0  \n",
       "29                   False        100.0     11.25                   5.0  \n",
       "...                    ...          ...       ...                   ...  \n",
       "49970                False          0.0      5.62                   5.0  \n",
       "49971                 True        100.0      4.69                   5.0  \n",
       "49972                False          0.0      4.60                   3.5  \n",
       "49973                 True         25.0      4.07                   5.0  \n",
       "49974                False        100.0      4.63                   5.0  \n",
       "49975                False         91.8      2.18                   4.8  \n",
       "49976                False        100.0      2.39                   4.0  \n",
       "49977                False        100.0      8.71                   5.0  \n",
       "49978                False         50.0      6.02                   5.0  \n",
       "49979                 True         50.0      3.81                   4.8  \n",
       "49980                False        100.0     14.42                   5.0  \n",
       "49981                 True          0.0      5.49                   5.0  \n",
       "49982                False        100.0     15.23                   5.0  \n",
       "49983                False        100.0     30.39                   5.0  \n",
       "49984                False          0.0      3.50                   5.0  \n",
       "49985                False        100.0      1.38                   5.0  \n",
       "49986                False        100.0      0.52                   5.0  \n",
       "49987                False         80.0      4.24                   4.0  \n",
       "49988                False         50.0      2.53                   5.0  \n",
       "49989                False        100.0      0.00                   5.0  \n",
       "49990                 True         33.3      3.38                   5.0  \n",
       "49991                False          0.0      1.06                   5.0  \n",
       "49992                False          0.0      7.58                   5.0  \n",
       "49993                 True         55.6      2.53                   4.7  \n",
       "49994                False         25.0      2.25                   4.5  \n",
       "49995                False        100.0      5.63                   4.2  \n",
       "49996                False          0.0      0.00                   4.0  \n",
       "49997                 True        100.0      3.86                   5.0  \n",
       "49998                False        100.0      4.58                   3.5  \n",
       "49999                False          0.0      3.49                   5.0  \n",
       "\n",
       "[50000 rows x 12 columns]"
      ]
     },
     "execution_count": 7,
     "metadata": {},
     "output_type": "execute_result"
    }
   ],
   "source": [
    "df_final=pd.DataFrame()\n",
    "for i in range(0,len(data)):\n",
    "    df=pd.DataFrame()\n",
    "    df=pd.DataFrame(data[i], index=[i])\n",
    "    df_final=df_final.append(df)\n",
    "    \n",
    "ultimate_data_challenge_df=df_final\n",
    "\n",
    "ultimate_data_challenge_df"
   ]
  },
  {
   "cell_type": "code",
   "execution_count": 19,
   "metadata": {},
   "outputs": [
    {
     "data": {
      "text/plain": [
       "(50000, 12)"
      ]
     },
     "execution_count": 19,
     "metadata": {},
     "output_type": "execute_result"
    }
   ],
   "source": [
    "ultimate_data_challenge_df.shape"
   ]
  },
  {
   "cell_type": "code",
   "execution_count": 20,
   "metadata": {},
   "outputs": [
    {
     "name": "stdout",
     "output_type": "stream",
     "text": [
      "<class 'pandas.core.frame.DataFrame'>\n",
      "RangeIndex: 50000 entries, 0 to 49999\n",
      "Data columns (total 12 columns):\n",
      "city                      50000 non-null object\n",
      "trips_in_first_30_days    50000 non-null int64\n",
      "signup_date               50000 non-null object\n",
      "avg_rating_of_driver      41878 non-null float64\n",
      "avg_surge                 50000 non-null float64\n",
      "last_trip_date            50000 non-null object\n",
      "phone                     49604 non-null object\n",
      "surge_pct                 50000 non-null float64\n",
      "ultimate_black_user       50000 non-null bool\n",
      "weekday_pct               50000 non-null float64\n",
      "avg_dist                  50000 non-null float64\n",
      "avg_rating_by_driver      49799 non-null float64\n",
      "dtypes: bool(1), float64(6), int64(1), object(4)\n",
      "memory usage: 4.2+ MB\n"
     ]
    }
   ],
   "source": [
    "ultimate_data_challenge_df.info()"
   ]
  },
  {
   "cell_type": "code",
   "execution_count": 21,
   "metadata": {
    "scrolled": true
   },
   "outputs": [
    {
     "data": {
      "text/html": [
       "<div>\n",
       "<style scoped>\n",
       "    .dataframe tbody tr th:only-of-type {\n",
       "        vertical-align: middle;\n",
       "    }\n",
       "\n",
       "    .dataframe tbody tr th {\n",
       "        vertical-align: top;\n",
       "    }\n",
       "\n",
       "    .dataframe thead th {\n",
       "        text-align: right;\n",
       "    }\n",
       "</style>\n",
       "<table border=\"1\" class=\"dataframe\">\n",
       "  <thead>\n",
       "    <tr style=\"text-align: right;\">\n",
       "      <th></th>\n",
       "      <th>trips_in_first_30_days</th>\n",
       "      <th>avg_rating_of_driver</th>\n",
       "      <th>avg_surge</th>\n",
       "      <th>surge_pct</th>\n",
       "      <th>weekday_pct</th>\n",
       "      <th>avg_dist</th>\n",
       "      <th>avg_rating_by_driver</th>\n",
       "    </tr>\n",
       "  </thead>\n",
       "  <tbody>\n",
       "    <tr>\n",
       "      <th>count</th>\n",
       "      <td>50000.000000</td>\n",
       "      <td>41878.000000</td>\n",
       "      <td>50000.000000</td>\n",
       "      <td>50000.000000</td>\n",
       "      <td>50000.000000</td>\n",
       "      <td>50000.000000</td>\n",
       "      <td>49799.000000</td>\n",
       "    </tr>\n",
       "    <tr>\n",
       "      <th>mean</th>\n",
       "      <td>2.278200</td>\n",
       "      <td>4.601559</td>\n",
       "      <td>1.074764</td>\n",
       "      <td>8.849536</td>\n",
       "      <td>60.926084</td>\n",
       "      <td>5.796827</td>\n",
       "      <td>4.778158</td>\n",
       "    </tr>\n",
       "    <tr>\n",
       "      <th>std</th>\n",
       "      <td>3.792684</td>\n",
       "      <td>0.617338</td>\n",
       "      <td>0.222336</td>\n",
       "      <td>19.958811</td>\n",
       "      <td>37.081503</td>\n",
       "      <td>5.707357</td>\n",
       "      <td>0.446652</td>\n",
       "    </tr>\n",
       "    <tr>\n",
       "      <th>min</th>\n",
       "      <td>0.000000</td>\n",
       "      <td>1.000000</td>\n",
       "      <td>1.000000</td>\n",
       "      <td>0.000000</td>\n",
       "      <td>0.000000</td>\n",
       "      <td>0.000000</td>\n",
       "      <td>1.000000</td>\n",
       "    </tr>\n",
       "    <tr>\n",
       "      <th>25%</th>\n",
       "      <td>0.000000</td>\n",
       "      <td>4.300000</td>\n",
       "      <td>1.000000</td>\n",
       "      <td>0.000000</td>\n",
       "      <td>33.300000</td>\n",
       "      <td>2.420000</td>\n",
       "      <td>4.700000</td>\n",
       "    </tr>\n",
       "    <tr>\n",
       "      <th>50%</th>\n",
       "      <td>1.000000</td>\n",
       "      <td>4.900000</td>\n",
       "      <td>1.000000</td>\n",
       "      <td>0.000000</td>\n",
       "      <td>66.700000</td>\n",
       "      <td>3.880000</td>\n",
       "      <td>5.000000</td>\n",
       "    </tr>\n",
       "    <tr>\n",
       "      <th>75%</th>\n",
       "      <td>3.000000</td>\n",
       "      <td>5.000000</td>\n",
       "      <td>1.050000</td>\n",
       "      <td>8.600000</td>\n",
       "      <td>100.000000</td>\n",
       "      <td>6.940000</td>\n",
       "      <td>5.000000</td>\n",
       "    </tr>\n",
       "    <tr>\n",
       "      <th>max</th>\n",
       "      <td>125.000000</td>\n",
       "      <td>5.000000</td>\n",
       "      <td>8.000000</td>\n",
       "      <td>100.000000</td>\n",
       "      <td>100.000000</td>\n",
       "      <td>160.960000</td>\n",
       "      <td>5.000000</td>\n",
       "    </tr>\n",
       "  </tbody>\n",
       "</table>\n",
       "</div>"
      ],
      "text/plain": [
       "       trips_in_first_30_days  avg_rating_of_driver     avg_surge  \\\n",
       "count            50000.000000          41878.000000  50000.000000   \n",
       "mean                 2.278200              4.601559      1.074764   \n",
       "std                  3.792684              0.617338      0.222336   \n",
       "min                  0.000000              1.000000      1.000000   \n",
       "25%                  0.000000              4.300000      1.000000   \n",
       "50%                  1.000000              4.900000      1.000000   \n",
       "75%                  3.000000              5.000000      1.050000   \n",
       "max                125.000000              5.000000      8.000000   \n",
       "\n",
       "          surge_pct   weekday_pct      avg_dist  avg_rating_by_driver  \n",
       "count  50000.000000  50000.000000  50000.000000          49799.000000  \n",
       "mean       8.849536     60.926084      5.796827              4.778158  \n",
       "std       19.958811     37.081503      5.707357              0.446652  \n",
       "min        0.000000      0.000000      0.000000              1.000000  \n",
       "25%        0.000000     33.300000      2.420000              4.700000  \n",
       "50%        0.000000     66.700000      3.880000              5.000000  \n",
       "75%        8.600000    100.000000      6.940000              5.000000  \n",
       "max      100.000000    100.000000    160.960000              5.000000  "
      ]
     },
     "execution_count": 21,
     "metadata": {},
     "output_type": "execute_result"
    }
   ],
   "source": [
    "ultimate_data_challenge_df.describe()"
   ]
  },
  {
   "cell_type": "code",
   "execution_count": 62,
   "metadata": {},
   "outputs": [],
   "source": [
    "#ultimate_data_challenge_df.to_csv(\"C:/Users/yuka.abe/Documents/GitHub/1481053515_ultimate_challenge/ultimate_challenge/ultimate_data_challenge_csv_file.csv\", index=False)"
   ]
  },
  {
   "cell_type": "code",
   "execution_count": 22,
   "metadata": {},
   "outputs": [
    {
     "data": {
      "text/html": [
       "<div>\n",
       "<style scoped>\n",
       "    .dataframe tbody tr th:only-of-type {\n",
       "        vertical-align: middle;\n",
       "    }\n",
       "\n",
       "    .dataframe tbody tr th {\n",
       "        vertical-align: top;\n",
       "    }\n",
       "\n",
       "    .dataframe thead th {\n",
       "        text-align: right;\n",
       "    }\n",
       "</style>\n",
       "<table border=\"1\" class=\"dataframe\">\n",
       "  <thead>\n",
       "    <tr style=\"text-align: right;\">\n",
       "      <th></th>\n",
       "      <th>city</th>\n",
       "      <th>trips_in_first_30_days</th>\n",
       "      <th>signup_date</th>\n",
       "      <th>avg_rating_of_driver</th>\n",
       "      <th>avg_surge</th>\n",
       "      <th>last_trip_date</th>\n",
       "      <th>phone</th>\n",
       "      <th>surge_pct</th>\n",
       "      <th>ultimate_black_user</th>\n",
       "      <th>weekday_pct</th>\n",
       "      <th>avg_dist</th>\n",
       "      <th>avg_rating_by_driver</th>\n",
       "    </tr>\n",
       "  </thead>\n",
       "  <tbody>\n",
       "    <tr>\n",
       "      <th>0</th>\n",
       "      <td>King's Landing</td>\n",
       "      <td>4</td>\n",
       "      <td>2014-01-25</td>\n",
       "      <td>4.7</td>\n",
       "      <td>1.10</td>\n",
       "      <td>2014-06-17</td>\n",
       "      <td>iPhone</td>\n",
       "      <td>15.4</td>\n",
       "      <td>True</td>\n",
       "      <td>46.2</td>\n",
       "      <td>3.67</td>\n",
       "      <td>5.0</td>\n",
       "    </tr>\n",
       "    <tr>\n",
       "      <th>1</th>\n",
       "      <td>Astapor</td>\n",
       "      <td>0</td>\n",
       "      <td>2014-01-29</td>\n",
       "      <td>5.0</td>\n",
       "      <td>1.00</td>\n",
       "      <td>2014-05-05</td>\n",
       "      <td>Android</td>\n",
       "      <td>0.0</td>\n",
       "      <td>False</td>\n",
       "      <td>50.0</td>\n",
       "      <td>8.26</td>\n",
       "      <td>5.0</td>\n",
       "    </tr>\n",
       "    <tr>\n",
       "      <th>2</th>\n",
       "      <td>Astapor</td>\n",
       "      <td>3</td>\n",
       "      <td>2014-01-06</td>\n",
       "      <td>4.3</td>\n",
       "      <td>1.00</td>\n",
       "      <td>2014-01-07</td>\n",
       "      <td>iPhone</td>\n",
       "      <td>0.0</td>\n",
       "      <td>False</td>\n",
       "      <td>100.0</td>\n",
       "      <td>0.77</td>\n",
       "      <td>5.0</td>\n",
       "    </tr>\n",
       "    <tr>\n",
       "      <th>3</th>\n",
       "      <td>King's Landing</td>\n",
       "      <td>9</td>\n",
       "      <td>2014-01-10</td>\n",
       "      <td>4.6</td>\n",
       "      <td>1.14</td>\n",
       "      <td>2014-06-29</td>\n",
       "      <td>iPhone</td>\n",
       "      <td>20.0</td>\n",
       "      <td>True</td>\n",
       "      <td>80.0</td>\n",
       "      <td>2.36</td>\n",
       "      <td>4.9</td>\n",
       "    </tr>\n",
       "    <tr>\n",
       "      <th>4</th>\n",
       "      <td>Winterfell</td>\n",
       "      <td>14</td>\n",
       "      <td>2014-01-27</td>\n",
       "      <td>4.4</td>\n",
       "      <td>1.19</td>\n",
       "      <td>2014-03-15</td>\n",
       "      <td>Android</td>\n",
       "      <td>11.8</td>\n",
       "      <td>False</td>\n",
       "      <td>82.4</td>\n",
       "      <td>3.13</td>\n",
       "      <td>4.9</td>\n",
       "    </tr>\n",
       "  </tbody>\n",
       "</table>\n",
       "</div>"
      ],
      "text/plain": [
       "             city  trips_in_first_30_days signup_date  avg_rating_of_driver  \\\n",
       "0  King's Landing                       4  2014-01-25                   4.7   \n",
       "1         Astapor                       0  2014-01-29                   5.0   \n",
       "2         Astapor                       3  2014-01-06                   4.3   \n",
       "3  King's Landing                       9  2014-01-10                   4.6   \n",
       "4      Winterfell                      14  2014-01-27                   4.4   \n",
       "\n",
       "   avg_surge last_trip_date    phone  surge_pct  ultimate_black_user  \\\n",
       "0       1.10     2014-06-17   iPhone       15.4                 True   \n",
       "1       1.00     2014-05-05  Android        0.0                False   \n",
       "2       1.00     2014-01-07   iPhone        0.0                False   \n",
       "3       1.14     2014-06-29   iPhone       20.0                 True   \n",
       "4       1.19     2014-03-15  Android       11.8                False   \n",
       "\n",
       "   weekday_pct  avg_dist  avg_rating_by_driver  \n",
       "0         46.2      3.67                   5.0  \n",
       "1         50.0      8.26                   5.0  \n",
       "2        100.0      0.77                   5.0  \n",
       "3         80.0      2.36                   4.9  \n",
       "4         82.4      3.13                   4.9  "
      ]
     },
     "execution_count": 22,
     "metadata": {},
     "output_type": "execute_result"
    }
   ],
   "source": [
    "ultimate_data_challenge_df.head()"
   ]
  },
  {
   "cell_type": "markdown",
   "metadata": {},
   "source": [
    "# Part 1:  Exploratory data analysis"
   ]
  },
  {
   "cell_type": "markdown",
   "metadata": {},
   "source": [
    "The    attached       logins.json       file     contains     (simulated)     timestamps    of    user     logins     in    a    particular  geographic     location.     Aggregate     these     login     counts    based    on    15­ minute     time     intervals,    and  visualize     and    describe     the     resulting     time     series    of     login     counts     in    ways     that    best     characterize     the  underlying    patterns     of     the    demand.     Please     report/illustrate     important     features    of     the    demand,  such     as    daily     cycles.     If     there     are     data     quality     issues,    please     report     them. \n"
   ]
  },
  {
   "cell_type": "markdown",
   "metadata": {},
   "source": [
    "# Below are my solutions"
   ]
  },
  {
   "cell_type": "markdown",
   "metadata": {},
   "source": [
    "# Data Issue detected:\n",
    "\n",
    "All the login time stamps are in the year of 1970, which could be a system issue."
   ]
  },
  {
   "cell_type": "markdown",
   "metadata": {},
   "source": [
    "# Login Time Data"
   ]
  },
  {
   "cell_type": "code",
   "execution_count": 23,
   "metadata": {},
   "outputs": [],
   "source": [
    "login_time_list=logins_data['login_time']"
   ]
  },
  {
   "cell_type": "code",
   "execution_count": 24,
   "metadata": {},
   "outputs": [],
   "source": [
    "login_time_list=np.sort(login_time_list)"
   ]
  },
  {
   "cell_type": "code",
   "execution_count": 25,
   "metadata": {},
   "outputs": [
    {
     "data": {
      "text/plain": [
       "array(['1970-01-01 20:12:16', '1970-01-01 20:13:18',\n",
       "       '1970-01-01 20:16:10', ..., '1970-04-13 18:54:02',\n",
       "       '1970-04-13 18:54:23', '1970-04-13 18:57:38'], dtype='<U19')"
      ]
     },
     "execution_count": 25,
     "metadata": {},
     "output_type": "execute_result"
    }
   ],
   "source": [
    "login_time_list"
   ]
  },
  {
   "cell_type": "code",
   "execution_count": 26,
   "metadata": {},
   "outputs": [],
   "source": [
    "login_df=pd.DataFrame(pd.Series(login_time_list), columns=['Login TimeStamp'])"
   ]
  },
  {
   "cell_type": "code",
   "execution_count": 27,
   "metadata": {},
   "outputs": [
    {
     "data": {
      "text/html": [
       "<div>\n",
       "<style scoped>\n",
       "    .dataframe tbody tr th:only-of-type {\n",
       "        vertical-align: middle;\n",
       "    }\n",
       "\n",
       "    .dataframe tbody tr th {\n",
       "        vertical-align: top;\n",
       "    }\n",
       "\n",
       "    .dataframe thead th {\n",
       "        text-align: right;\n",
       "    }\n",
       "</style>\n",
       "<table border=\"1\" class=\"dataframe\">\n",
       "  <thead>\n",
       "    <tr style=\"text-align: right;\">\n",
       "      <th></th>\n",
       "      <th>Login TimeStamp</th>\n",
       "    </tr>\n",
       "  </thead>\n",
       "  <tbody>\n",
       "    <tr>\n",
       "      <th>0</th>\n",
       "      <td>1970-01-01 20:12:16</td>\n",
       "    </tr>\n",
       "    <tr>\n",
       "      <th>1</th>\n",
       "      <td>1970-01-01 20:13:18</td>\n",
       "    </tr>\n",
       "    <tr>\n",
       "      <th>2</th>\n",
       "      <td>1970-01-01 20:16:10</td>\n",
       "    </tr>\n",
       "    <tr>\n",
       "      <th>3</th>\n",
       "      <td>1970-01-01 20:16:36</td>\n",
       "    </tr>\n",
       "    <tr>\n",
       "      <th>4</th>\n",
       "      <td>1970-01-01 20:16:37</td>\n",
       "    </tr>\n",
       "  </tbody>\n",
       "</table>\n",
       "</div>"
      ],
      "text/plain": [
       "       Login TimeStamp\n",
       "0  1970-01-01 20:12:16\n",
       "1  1970-01-01 20:13:18\n",
       "2  1970-01-01 20:16:10\n",
       "3  1970-01-01 20:16:36\n",
       "4  1970-01-01 20:16:37"
      ]
     },
     "execution_count": 27,
     "metadata": {},
     "output_type": "execute_result"
    }
   ],
   "source": [
    "login_df.head()"
   ]
  },
  {
   "cell_type": "code",
   "execution_count": 28,
   "metadata": {},
   "outputs": [
    {
     "name": "stdout",
     "output_type": "stream",
     "text": [
      "first login timestamp: 1970-01-01 20:12:16\n",
      "latest login timestamp: 1970-04-13 18:57:38\n"
     ]
    }
   ],
   "source": [
    "print(\"first login timestamp:\" ,login_df['Login TimeStamp'].min())\n",
    "print(\"latest login timestamp:\", login_df['Login TimeStamp'].max())"
   ]
  },
  {
   "cell_type": "code",
   "execution_count": 15,
   "metadata": {},
   "outputs": [],
   "source": [
    "# Define a function for creating 15 mins interval for the login timestamp:\n",
    "from datetime import datetime, timedelta\n",
    "\n",
    "def datetime_range(start, end, delta):\n",
    "    current = start\n",
    "    while current < end:\n",
    "        yield current\n",
    "        current += delta"
   ]
  },
  {
   "cell_type": "code",
   "execution_count": 16,
   "metadata": {},
   "outputs": [],
   "source": [
    "start=pd.to_datetime(\"1970-01-01 20:00:00\")\n",
    "end=pd.to_datetime(\"1970-04-13 19:00:00\")\n",
    "delta=timedelta(minutes=15)\n",
    "\n",
    "dts = [dt.strftime('%Y-%m-%d %H:%M') for dt in \n",
    "       datetime_range(start, end, delta)]\n",
    "dts_df=pd.DataFrame(dts, columns=['starting dt'])\n",
    "dts_df['ending dt']=pd.to_datetime(dts_df['starting dt'])+timedelta(minutes=14, seconds=59)"
   ]
  },
  {
   "cell_type": "code",
   "execution_count": 17,
   "metadata": {},
   "outputs": [
    {
     "data": {
      "text/html": [
       "<div>\n",
       "<style scoped>\n",
       "    .dataframe tbody tr th:only-of-type {\n",
       "        vertical-align: middle;\n",
       "    }\n",
       "\n",
       "    .dataframe tbody tr th {\n",
       "        vertical-align: top;\n",
       "    }\n",
       "\n",
       "    .dataframe thead th {\n",
       "        text-align: right;\n",
       "    }\n",
       "</style>\n",
       "<table border=\"1\" class=\"dataframe\">\n",
       "  <thead>\n",
       "    <tr style=\"text-align: right;\">\n",
       "      <th></th>\n",
       "      <th>Login TimeStamp</th>\n",
       "    </tr>\n",
       "  </thead>\n",
       "  <tbody>\n",
       "    <tr>\n",
       "      <th>0</th>\n",
       "      <td>1970-01-01 20:12:16</td>\n",
       "    </tr>\n",
       "    <tr>\n",
       "      <th>1</th>\n",
       "      <td>1970-01-01 20:13:18</td>\n",
       "    </tr>\n",
       "    <tr>\n",
       "      <th>2</th>\n",
       "      <td>1970-01-01 20:16:10</td>\n",
       "    </tr>\n",
       "    <tr>\n",
       "      <th>3</th>\n",
       "      <td>1970-01-01 20:16:36</td>\n",
       "    </tr>\n",
       "    <tr>\n",
       "      <th>4</th>\n",
       "      <td>1970-01-01 20:16:37</td>\n",
       "    </tr>\n",
       "  </tbody>\n",
       "</table>\n",
       "</div>"
      ],
      "text/plain": [
       "       Login TimeStamp\n",
       "0  1970-01-01 20:12:16\n",
       "1  1970-01-01 20:13:18\n",
       "2  1970-01-01 20:16:10\n",
       "3  1970-01-01 20:16:36\n",
       "4  1970-01-01 20:16:37"
      ]
     },
     "execution_count": 17,
     "metadata": {},
     "output_type": "execute_result"
    }
   ],
   "source": [
    "# Join login timestamp with the dt dataframe:\n",
    "login_df.head()"
   ]
  },
  {
   "cell_type": "code",
   "execution_count": 18,
   "metadata": {},
   "outputs": [],
   "source": [
    "from sqlalchemy import create_engine\n",
    "engine = create_engine('sqlite://', echo=False)\n",
    "login_df.to_sql('logins_timestamp', con=engine, if_exists='replace')"
   ]
  },
  {
   "cell_type": "code",
   "execution_count": 19,
   "metadata": {},
   "outputs": [],
   "source": [
    "dts_df.to_sql('fifteen_miniute_dts', con=engine, if_exists='replace')"
   ]
  },
  {
   "cell_type": "code",
   "execution_count": 20,
   "metadata": {},
   "outputs": [],
   "source": [
    "log_data_fifteen_minutes_interval=engine.execute(\"SELECT * FROM fifteen_miniute_dts a left join logins_timestamp b on b.`Login TimeStamp`>=a.`starting dt` and b.`Login TimeStamp` <= a.`ending dt`  \").fetchall()"
   ]
  },
  {
   "cell_type": "code",
   "execution_count": 21,
   "metadata": {},
   "outputs": [],
   "source": [
    "log_data_fifteen_minutes_interval=pd.DataFrame(log_data_fifteen_minutes_interval)[[1,2,4]]"
   ]
  },
  {
   "cell_type": "code",
   "execution_count": 22,
   "metadata": {},
   "outputs": [],
   "source": [
    "log_data_fifteen_minutes_interval.columns=['start timestamp', 'end timestamp', 'login timestamp']"
   ]
  },
  {
   "cell_type": "code",
   "execution_count": 23,
   "metadata": {},
   "outputs": [],
   "source": [
    "log_data_fifteen_minutes_interval_update=log_data_fifteen_minutes_interval[['start timestamp', 'login timestamp']]"
   ]
  },
  {
   "cell_type": "markdown",
   "metadata": {},
   "source": [
    "# Aggregate the login counts by 15 min interval"
   ]
  },
  {
   "cell_type": "code",
   "execution_count": 31,
   "metadata": {},
   "outputs": [],
   "source": [
    "login_counts_by_15_mins_interval=log_data_fifteen_minutes_interval_update.groupby('start timestamp').count()"
   ]
  },
  {
   "cell_type": "code",
   "execution_count": 28,
   "metadata": {},
   "outputs": [],
   "source": [
    "#log_data_fifteen_minutes_interval_update.to_csv(\"C:/Users/yuka.abe/Documents/GitHub/1481053515_ultimate_challenge/ultimate_challenge/log_data_fifteen_minutes_interval_update.csv\", index=False)"
   ]
  },
  {
   "cell_type": "code",
   "execution_count": 84,
   "metadata": {},
   "outputs": [
    {
     "data": {
      "text/plain": [
       "(93549, 2)"
      ]
     },
     "execution_count": 84,
     "metadata": {},
     "output_type": "execute_result"
    }
   ],
   "source": [
    "log_data_fifteen_minutes_interval_update.shape"
   ]
  },
  {
   "cell_type": "code",
   "execution_count": 129,
   "metadata": {},
   "outputs": [],
   "source": [
    "log_data_fifteen_minutes_interval_update=pd.read_csv(\"C:/Users/yuka.abe/Documents/GitHub/1481053515_ultimate_challenge/ultimate_challenge/log_data_fifteen_minutes_interval_update.csv\")"
   ]
  },
  {
   "cell_type": "markdown",
   "metadata": {},
   "source": [
    "# Aggregate the log counts by hour to understand the demand by hours"
   ]
  },
  {
   "cell_type": "code",
   "execution_count": 32,
   "metadata": {},
   "outputs": [],
   "source": [
    "login_counts_by_15_mins_interval.reset_index(inplace=True)\n"
   ]
  },
  {
   "cell_type": "code",
   "execution_count": 33,
   "metadata": {},
   "outputs": [],
   "source": [
    "login_counts_by_15_mins_interval.rename(columns={'login timestamp': 'login sessions'}, inplace=True)"
   ]
  },
  {
   "cell_type": "code",
   "execution_count": 34,
   "metadata": {},
   "outputs": [],
   "source": [
    "login_counts_by_15_mins_interval['time stamp by hour']=login_counts_by_15_mins_interval['start timestamp'].apply(lambda x: pd.to_datetime(x).strftime('%Y-%m-%d H%H'))\n"
   ]
  },
  {
   "cell_type": "code",
   "execution_count": 35,
   "metadata": {},
   "outputs": [],
   "source": [
    "login_counts_by_15_mins_interval['hour']=login_counts_by_15_mins_interval['start timestamp'].apply(lambda x: pd.to_datetime(x).strftime('H%H'))\n"
   ]
  },
  {
   "cell_type": "code",
   "execution_count": 36,
   "metadata": {},
   "outputs": [],
   "source": [
    "login_counts_by_hour_of_the_day=login_counts_by_15_mins_interval.groupby('hour')['login sessions'].sum()\n",
    "login_counts_by_hour_of_the_day.index=[h.replace('H', \"\") +':00' for h in list(login_counts_by_hour_of_the_day.index)]"
   ]
  },
  {
   "cell_type": "markdown",
   "metadata": {},
   "source": [
    "# Login Session Count by hour of the day:\n",
    "- The demand for taxis through Ultimate Technologies in that specific geo location remains at peark during noon and late night (from 10 pm to 1 am)\n",
    "- There's not much demand for taxis in that geo location from 6 am to 9 am compared with the rest of the day."
   ]
  },
  {
   "cell_type": "code",
   "execution_count": 40,
   "metadata": {},
   "outputs": [
    {
     "data": {
      "text/plain": [
       "Text(0, 0.5, 'Hour of the day')"
      ]
     },
     "execution_count": 40,
     "metadata": {},
     "output_type": "execute_result"
    },
    {
     "data": {
      "image/png": "[encoded data removed]",
      "text/plain": [
       "<Figure size 1080x360 with 1 Axes>"
      ]
     },
     "metadata": {
      "needs_background": "light"
     },
     "output_type": "display_data"
    }
   ],
   "source": [
    "fig, ax = plt.subplots(figsize=(15,5))\n",
    "plt.plot( login_counts_by_hour_of_the_day, 'o-')\n",
    "plt.title(\"Login session count by hour of the day\")\n",
    "plt.xlabel(\"Login Session Count\")\n",
    "plt.ylabel(\"Hour of the day\")"
   ]
  },
  {
   "cell_type": "markdown",
   "metadata": {},
   "source": [
    "# Aggregate the log counts by week (every week beginning Sunday):"
   ]
  },
  {
   "cell_type": "markdown",
   "metadata": {},
   "source": [
    "# Convert the time stamp to week"
   ]
  },
  {
   "cell_type": "code",
   "execution_count": 41,
   "metadata": {},
   "outputs": [],
   "source": [
    "def func_return_week_starting_Sunday(date_input1):\n",
    "    if pd.to_datetime(date_input1).weekday()==6:\n",
    "        return pd.to_datetime(date_input1)\n",
    "    if pd.to_datetime(date_input1).weekday()!=6:\n",
    "        return pd.to_datetime(pd.to_datetime(date_input1)+timedelta(days=7-pd.to_datetime(date_input1).weekday()-8))"
   ]
  },
  {
   "cell_type": "code",
   "execution_count": 94,
   "metadata": {},
   "outputs": [],
   "source": [
    "login_counts_by_15_mins_interval['date']=login_counts_by_15_mins_interval['start timestamp'].apply(lambda x: pd.to_datetime(x).strftime('%Y-%m-%d'))"
   ]
  },
  {
   "cell_type": "code",
   "execution_count": 106,
   "metadata": {},
   "outputs": [],
   "source": [
    "login_counts_by_15_mins_interval['week']=login_counts_by_15_mins_interval['start timestamp'].apply(lambda x: func_return_week_starting_Sunday(pd.to_datetime(x).strftime('%Y-%m-%d')).strftime('%Y-%m/%d'))"
   ]
  },
  {
   "cell_type": "code",
   "execution_count": 107,
   "metadata": {},
   "outputs": [],
   "source": [
    "weekly_login_counts=login_counts_by_15_mins_interval.groupby('week')['login sessions'].sum()"
   ]
  },
  {
   "cell_type": "code",
   "execution_count": 114,
   "metadata": {},
   "outputs": [],
   "source": [
    "weekly_login_counts.index=[pd.to_datetime(i).strftime('%m/%d') for i in weekly_login_counts.index]"
   ]
  },
  {
   "cell_type": "markdown",
   "metadata": {},
   "source": [
    "# Login Session By Week Trend:\n",
    "- The usage of the app for getting taxis in that geo location has an upward trend starting from the beginning of the year till end of March.\n",
    "- However the usage is down during the latest weeks in April."
   ]
  },
  {
   "cell_type": "code",
   "execution_count": 115,
   "metadata": {},
   "outputs": [
    {
     "data": {
      "text/plain": [
       "Text(0.5, 0, 'Week')"
      ]
     },
     "execution_count": 115,
     "metadata": {},
     "output_type": "execute_result"
    },
    {
     "data": {
      "image/png": "[encoded data removed]",
      "text/plain": [
       "<Figure size 1080x360 with 1 Axes>"
      ]
     },
     "metadata": {
      "needs_background": "light"
     },
     "output_type": "display_data"
    }
   ],
   "source": [
    "fig, ax = plt.subplots(figsize=(15,5))\n",
    "plt.plot( weekly_login_counts, 'o-')\n",
    "plt.title(\"Login session count by week\")\n",
    "plt.ylabel(\"Login Session Count\")\n",
    "plt.xlabel(\"Week\")"
   ]
  },
  {
   "cell_type": "markdown",
   "metadata": {},
   "source": [
    "# Aggregate the log counts by day:"
   ]
  },
  {
   "cell_type": "code",
   "execution_count": 95,
   "metadata": {},
   "outputs": [],
   "source": [
    "login_counts_by_date=login_counts_by_15_mins_interval.groupby('date')['login sessions'].sum()"
   ]
  },
  {
   "cell_type": "code",
   "execution_count": 96,
   "metadata": {},
   "outputs": [],
   "source": [
    "login_counts_by_15_mins_interval['day of week']=login_counts_by_15_mins_interval['start timestamp'].apply(lambda x: pd.to_datetime(x).weekday())"
   ]
  },
  {
   "cell_type": "code",
   "execution_count": 97,
   "metadata": {},
   "outputs": [],
   "source": [
    "dict_weekday={0: 'Sunday', 1: 'Monday', 2: 'Tuesday', 3:'Wednesday', 4:'Thursday', 5:'Friday', 6:'Saturday'}"
   ]
  },
  {
   "cell_type": "code",
   "execution_count": 98,
   "metadata": {},
   "outputs": [],
   "source": [
    "login_counts_by_15_mins_interval.sort_values(by='day of week', inplace=True)"
   ]
  },
  {
   "cell_type": "code",
   "execution_count": 99,
   "metadata": {},
   "outputs": [],
   "source": [
    "login_counts_by_day_of_week=login_counts_by_15_mins_interval.groupby('day of week')['login sessions'].sum()"
   ]
  },
  {
   "cell_type": "code",
   "execution_count": 100,
   "metadata": {},
   "outputs": [],
   "source": [
    "login_counts_by_day_of_week.index=['Sunday','Monday','Tuesday','Wednesday','Thursday','Friday','Saturday']"
   ]
  },
  {
   "cell_type": "markdown",
   "metadata": {},
   "source": [
    "# Login Sessions By Weekdays:\n",
    "\n",
    "- It seems that the closer towards the weekends, the more demands for taxis through Ultimate app in that location.\n",
    "- By looking at the login session distribution across days of the week, we can tell that the geo location where the data is from might not be a business district or a residential area. It could be an area where there are many entertainment facilities (restaurants, clubs and bars) like East Village in New York."
   ]
  },
  {
   "cell_type": "code",
   "execution_count": 103,
   "metadata": {},
   "outputs": [
    {
     "data": {
      "image/png": "[encoded data removed]",
      "text/plain": [
       "<Figure size 1080x360 with 1 Axes>"
      ]
     },
     "metadata": {
      "needs_background": "light"
     },
     "output_type": "display_data"
    }
   ],
   "source": [
    "fig, ax = plt.subplots(figsize=(15,5))\n",
    "plt.plot(login_counts_by_day_of_week, 'o-')\n",
    "ax.tick_params(axis='x', labelrotation=45)\n",
    "plt.title(\"Login Sessions by Day of the Week\")\n",
    "plt.xlabel(\"Day of the Week\")\n",
    "plt.ylabel(\"Log Session Count\")\n",
    "plt.show()"
   ]
  },
  {
   "cell_type": "markdown",
   "metadata": {},
   "source": [
    "# Part    2    ‑    Experiment    and    metrics    design  "
   ]
  },
  {
   "cell_type": "markdown",
   "metadata": {},
   "source": [
    "The    neighboring     cities    of    Gotham    and    Metropolis    have     complementary     circadian     rhythms:     on  weekdays,    Ultimate    Gotham     is    most     active    at    night,    and    Ultimate    Metropolis     is    most    active  during     the    day.    On    weekends,     there     is     reasonable    activity     in    both     cities.    However,    a     toll    bridge,     with     a     two  ­way     toll,    between     the     two     cities     causes    driver    partners     to     tend  to    be    exclusive     to    each     city.     The     Ultimate    managers    of     city    operations     for     the     two     cities    have  proposed    an    experiment     to     encourage    driver    partners     to    be    available     in    both     cities,    by  reimbursing    all     toll     costs.  \n",
    "\n",
    "1. What    would     you     choose     as     the     key    measure    of     success    of     this    experiment     in  encouraging    driver     partners     to     serve    both     cities,    and    why    would     you     choose     this    metric? \n"
   ]
  },
  {
   "cell_type": "markdown",
   "metadata": {},
   "source": [
    "# Here's my answer:"
   ]
  },
  {
   "cell_type": "markdown",
   "metadata": {},
   "source": [
    "I would choose the trip fulfillment rate in the other city by driver partners in both cities as the key metric to measure the success of the experiment because the underlying goal of the initiative is not to just let driver partners to drive across cities more frequently but to have the driver to fulfill more demands in both cities during their peak hours. \n",
    "\n",
    "- The Hypothesis for the test: \n",
    "  \n",
    "  After the new toll reimbursement policy gets rolled out, the probability of the driver partner to fulfill the trips in the other city will increase.\n",
    "  \n",
    "\n",
    "- Below is my how I define the metric trip fulfilled:\n",
    "\n",
    "    Number of trips fulfilled by driver partner in the other city/Total number of trips fulfilled by the driver partner"
   ]
  },
  {
   "cell_type": "markdown",
   "metadata": {},
   "source": [
    " 2. Describe    a    practical     experiment     you    would    design     to     compare     the    effectiveness    of     the  proposed     change     in     relation     to     the     key    measure    of     success.    \n",
    " \n",
    " Please    provide    details     on:   \n",
    " \n",
    " a. how     you    will     implement     the    experiment  \n",
    " \n",
    " b. what     statistical     test(s)     you    will     conduct     to     verify     the     significance    of     the  observation  \n",
    "\n",
    " c. how     you    would     interpret     the     results    and    provide     recommendations     to     the     city  operations     team    along    with    any     caveats. "
   ]
  },
  {
   "cell_type": "markdown",
   "metadata": {},
   "source": [
    "# Here's my answer:"
   ]
  },
  {
   "cell_type": "markdown",
   "metadata": {},
   "source": [
    "To implement the experiment, I will choose two groups of driver partners located in both cities that meet the following requirements (less than 10% of the total driver partners):\n",
    "\n",
    "# Test Population:\n",
    "\n",
    "- Work mostly in either one of the cities\n",
    "- Usually active during the peak hours of Ultimate Gothan and Ultimate Metropolis \n",
    "- Have similar weekly working hours and average weekly driving miles\n",
    "- Within each group, there should be a representative proportion of driver partners from both cities\n",
    "\n"
   ]
  },
  {
   "cell_type": "markdown",
   "metadata": {},
   "source": [
    "# Define Control Versus Experiment:\n",
    "\n",
    "- One group will be the control group which will operate as they used to and will not receive any reimbursement for the toll fee if they drive across cities.\n",
    "- The other group will be the experiment which will get the notification through the App/email/text message to get informed about the toll reimbursement policy.\n",
    "- A/A test might be needed in advance to make the metric we've defined does not move that much overtime. Otherwise, the \"stats sig\" result observed later could be due to that fact that the metric is not robust enough."
   ]
  },
  {
   "cell_type": "markdown",
   "metadata": {},
   "source": [
    "# Statistical Test:"
   ]
  },
  {
   "cell_type": "markdown",
   "metadata": {},
   "source": [
    "- Assuming we have testing groups that are large enough (at least 30 driver partners per group), I would use z test to compare on the proportion (trip fulfillment rate in other city). Also, in this case, we only care about whether the new policy will have a positive impact on driver partners' fulfillment rate in other city. So we are going to use a one-tail test."
   ]
  },
  {
   "cell_type": "markdown",
   "metadata": {},
   "source": [
    "# Test Duration:"
   ]
  },
  {
   "cell_type": "markdown",
   "metadata": {},
   "source": [
    "- Since it takes the driver partners some time to get adapted to the new policy/experience, I would recommend to run the test for at least one month.\n",
    "- The test duration can also be determined by the least amount of sample needed (in this case trips) per variation group. For example, if the baseline trip fulfillment rate in the other city is 5% and we expect the new policy will increase the probabilty by 50%. Then we can calculate the sample size (minimum number of the trips) and use the average number of trips fulfilled per day per driver to get an estimate on the number of days for the test to run to possibly reach a stats significant conclusion."
   ]
  },
  {
   "cell_type": "markdown",
   "metadata": {},
   "source": [
    "# Test Read & Interpretaion:"
   ]
  },
  {
   "cell_type": "markdown",
   "metadata": {},
   "source": [
    "- If the experiement group has a statistically significantly higher trip fulfillment rate in other city, then it means the policy actually works to move the drivers across the cities. \n",
    "- If not, that could mean the incentive are not good enough for the drivers to move. We may also need to check if the test is set up appropriately to make sure the drivers in the experiment group actually know about the incentives. A post test survery/research might be helpful to understand how the drivers in the test thought about the incentives to get more qualitaive insights.\n",
    "- Also, even if the test is successful when we are getting a statistically significant result, it might not really indicate it is good for the operation. It would be recommended to ramp up the test a bit more to see whether the change has brought more trips (supply)  and also whether the change has positively impacted the overall customer demand fulfillment in both cities. Keeping track of the demand fullfilment rate when the test gets ramped up would be a good idea.\n",
    "\n",
    " demand fulfillment rate = number of drivers supply/number of requests made by customers in both cities\n"
   ]
  },
  {
   "cell_type": "markdown",
   "metadata": {},
   "source": [
    "# Part    3    ‑    Predictive     modeling  "
   ]
  },
  {
   "cell_type": "markdown",
   "metadata": {},
   "source": [
    "Ultimate     is     interested     in     predicting     rider     retention.    To    help    explore     this    question,    we    have  provided     a     sample    dataset     of     a     cohort    of    users    who     signed    up     for    an    Ultimate    account     in \n",
    "January    2014.    \n",
    "\n",
    "The     data    was    pulled     several    months     later;  \n",
    "\n",
    "we     consider    a    user     retained     if     they  were     “active”     (i.e.     took    a     trip)     in     the     preceding    30    days.    \n",
    "\n",
    "We     would     like     you     to    use     this    data     set     to    help    understand    what     factors    are     the    best    predictors  for     retention,    and    offer     suggestions     to     operationalize     those     insights     to    help    Ultimate.    \n",
    "\n",
    "\n",
    "The    data     is     in     the    attached     file     ultimate_data_challenge.json.    See    below     for    a    detailed  description     of     the    dataset.     \n",
    "\n",
    "Please     include    any     code     you    wrote     for     the    analysis    and    delete     the  dataset    when     you    have     finished     with     the     challenge.    \n",
    "\n",
    "1. Perform    any     cleaning,     exploratory    analysis,    and/or     visualizations     to    use     the    provided  data     for     this    analysis     (a     few     sentences/plots    describing     your    approach    will     suffice).    What  fraction     of     the    observed     users    were     retained?  \n",
    "\n",
    "2. Build    a    predictive     model     to     help    Ultimate    determine    whether    or    not    a    user    will    be    active  in     their    6th    month     on     the     system.    Discuss    why     you     chose     your    approach,    what  alternatives     you     considered,     and    any     concerns     you    have.    How     valid     is     your    model?  Include    any     key     indicators    of     model    performance.  \n",
    "\n",
    "3. Briefly    discuss    how     Ultimate     might     leverage     the     insights    gained     from     the    model     to  improve     its     long­  term     rider     retention     (again,    a     few     sentences    will     suffice). "
   ]
  },
  {
   "cell_type": "code",
   "execution_count": 11,
   "metadata": {},
   "outputs": [
    {
     "data": {
      "text/html": [
       "<div>\n",
       "<style scoped>\n",
       "    .dataframe tbody tr th:only-of-type {\n",
       "        vertical-align: middle;\n",
       "    }\n",
       "\n",
       "    .dataframe tbody tr th {\n",
       "        vertical-align: top;\n",
       "    }\n",
       "\n",
       "    .dataframe thead th {\n",
       "        text-align: right;\n",
       "    }\n",
       "</style>\n",
       "<table border=\"1\" class=\"dataframe\">\n",
       "  <thead>\n",
       "    <tr style=\"text-align: right;\">\n",
       "      <th></th>\n",
       "      <th>city</th>\n",
       "      <th>trips_in_first_30_days</th>\n",
       "      <th>signup_date</th>\n",
       "      <th>avg_rating_of_driver</th>\n",
       "      <th>avg_surge</th>\n",
       "      <th>last_trip_date</th>\n",
       "      <th>phone</th>\n",
       "      <th>surge_pct</th>\n",
       "      <th>ultimate_black_user</th>\n",
       "      <th>weekday_pct</th>\n",
       "      <th>avg_dist</th>\n",
       "      <th>avg_rating_by_driver</th>\n",
       "    </tr>\n",
       "  </thead>\n",
       "  <tbody>\n",
       "    <tr>\n",
       "      <th>0</th>\n",
       "      <td>King's Landing</td>\n",
       "      <td>4</td>\n",
       "      <td>2014-01-25</td>\n",
       "      <td>4.7</td>\n",
       "      <td>1.10</td>\n",
       "      <td>2014-06-17</td>\n",
       "      <td>iPhone</td>\n",
       "      <td>15.4</td>\n",
       "      <td>True</td>\n",
       "      <td>46.2</td>\n",
       "      <td>3.67</td>\n",
       "      <td>5.0</td>\n",
       "    </tr>\n",
       "    <tr>\n",
       "      <th>1</th>\n",
       "      <td>Astapor</td>\n",
       "      <td>0</td>\n",
       "      <td>2014-01-29</td>\n",
       "      <td>5.0</td>\n",
       "      <td>1.00</td>\n",
       "      <td>2014-05-05</td>\n",
       "      <td>Android</td>\n",
       "      <td>0.0</td>\n",
       "      <td>False</td>\n",
       "      <td>50.0</td>\n",
       "      <td>8.26</td>\n",
       "      <td>5.0</td>\n",
       "    </tr>\n",
       "    <tr>\n",
       "      <th>2</th>\n",
       "      <td>Astapor</td>\n",
       "      <td>3</td>\n",
       "      <td>2014-01-06</td>\n",
       "      <td>4.3</td>\n",
       "      <td>1.00</td>\n",
       "      <td>2014-01-07</td>\n",
       "      <td>iPhone</td>\n",
       "      <td>0.0</td>\n",
       "      <td>False</td>\n",
       "      <td>100.0</td>\n",
       "      <td>0.77</td>\n",
       "      <td>5.0</td>\n",
       "    </tr>\n",
       "    <tr>\n",
       "      <th>3</th>\n",
       "      <td>King's Landing</td>\n",
       "      <td>9</td>\n",
       "      <td>2014-01-10</td>\n",
       "      <td>4.6</td>\n",
       "      <td>1.14</td>\n",
       "      <td>2014-06-29</td>\n",
       "      <td>iPhone</td>\n",
       "      <td>20.0</td>\n",
       "      <td>True</td>\n",
       "      <td>80.0</td>\n",
       "      <td>2.36</td>\n",
       "      <td>4.9</td>\n",
       "    </tr>\n",
       "    <tr>\n",
       "      <th>4</th>\n",
       "      <td>Winterfell</td>\n",
       "      <td>14</td>\n",
       "      <td>2014-01-27</td>\n",
       "      <td>4.4</td>\n",
       "      <td>1.19</td>\n",
       "      <td>2014-03-15</td>\n",
       "      <td>Android</td>\n",
       "      <td>11.8</td>\n",
       "      <td>False</td>\n",
       "      <td>82.4</td>\n",
       "      <td>3.13</td>\n",
       "      <td>4.9</td>\n",
       "    </tr>\n",
       "  </tbody>\n",
       "</table>\n",
       "</div>"
      ],
      "text/plain": [
       "             city  trips_in_first_30_days signup_date  avg_rating_of_driver  \\\n",
       "0  King's Landing                       4  2014-01-25                   4.7   \n",
       "1         Astapor                       0  2014-01-29                   5.0   \n",
       "2         Astapor                       3  2014-01-06                   4.3   \n",
       "3  King's Landing                       9  2014-01-10                   4.6   \n",
       "4      Winterfell                      14  2014-01-27                   4.4   \n",
       "\n",
       "   avg_surge last_trip_date    phone  surge_pct  ultimate_black_user  \\\n",
       "0       1.10     2014-06-17   iPhone       15.4                 True   \n",
       "1       1.00     2014-05-05  Android        0.0                False   \n",
       "2       1.00     2014-01-07   iPhone        0.0                False   \n",
       "3       1.14     2014-06-29   iPhone       20.0                 True   \n",
       "4       1.19     2014-03-15  Android       11.8                False   \n",
       "\n",
       "   weekday_pct  avg_dist  avg_rating_by_driver  \n",
       "0         46.2      3.67                   5.0  \n",
       "1         50.0      8.26                   5.0  \n",
       "2        100.0      0.77                   5.0  \n",
       "3         80.0      2.36                   4.9  \n",
       "4         82.4      3.13                   4.9  "
      ]
     },
     "execution_count": 11,
     "metadata": {},
     "output_type": "execute_result"
    }
   ],
   "source": [
    "ultimate_data_challenge_df.head()"
   ]
  },
  {
   "attachments": {
    "image.png": {
     "image/png": "[encoded data removed]"
    }
   },
   "cell_type": "markdown",
   "metadata": {},
   "source": [
    "![image.png](attachment:image.png)"
   ]
  },
  {
   "cell_type": "markdown",
   "metadata": {},
   "source": [
    "# Data Cleaning & Data Exploratory Analysis"
   ]
  },
  {
   "cell_type": "code",
   "execution_count": 12,
   "metadata": {},
   "outputs": [],
   "source": [
    "ultimate_data_challenge_df['signup_date']=pd.to_datetime(ultimate_data_challenge_df['signup_date'])\n",
    "ultimate_data_challenge_df['last_trip_date']=pd.to_datetime(ultimate_data_challenge_df['last_trip_date'])"
   ]
  },
  {
   "cell_type": "code",
   "execution_count": 13,
   "metadata": {},
   "outputs": [
    {
     "data": {
      "text/plain": [
       "Timestamp('2014-07-01 00:00:00')"
      ]
     },
     "execution_count": 13,
     "metadata": {},
     "output_type": "execute_result"
    }
   ],
   "source": [
    "ultimate_data_challenge_df['last_trip_date'].max()"
   ]
  },
  {
   "cell_type": "markdown",
   "metadata": {},
   "source": [
    "Calculate the number of number of days between the last active date and latest date:"
   ]
  },
  {
   "cell_type": "code",
   "execution_count": 14,
   "metadata": {},
   "outputs": [],
   "source": [
    "ultimate_data_challenge_df['Number of days between last active day and latest date']=ultimate_data_challenge_df['last_trip_date'].apply(lambda x: (ultimate_data_challenge_df['last_trip_date'].max()-x).days)"
   ]
  },
  {
   "cell_type": "markdown",
   "metadata": {},
   "source": [
    "Define a field called active user flag:\n",
    "- For users with \"Number of days between last active day and latest date\" that is greater than 30 then it is inactive (0)\n",
    "- For users with \"Number of days between last active day and latest date\" that is less than and equal to 30 then it is active (1)\n"
   ]
  },
  {
   "cell_type": "code",
   "execution_count": 15,
   "metadata": {},
   "outputs": [],
   "source": [
    "ultimate_data_challenge_df['User Active Flag']=0\n",
    "ultimate_data_challenge_df.loc[ultimate_data_challenge_df['Number of days between last active day and latest date']>30, 'User Active Flag']=0\n",
    "ultimate_data_challenge_df.loc[ultimate_data_challenge_df['Number of days between last active day and latest date']<=30, 'User Active Flag']=1"
   ]
  },
  {
   "cell_type": "markdown",
   "metadata": {},
   "source": [
    "There are overall 50,000 users who signed up in January. 62% of the users are inactive and 38% of theusers are still active."
   ]
  },
  {
   "cell_type": "code",
   "execution_count": 16,
   "metadata": {},
   "outputs": [
    {
     "data": {
      "text/plain": [
       "User Active Flag\n",
       "0    31196\n",
       "1    18804\n",
       "Name: signup_date, dtype: int64"
      ]
     },
     "execution_count": 16,
     "metadata": {},
     "output_type": "execute_result"
    }
   ],
   "source": [
    "ultimate_data_challenge_df.groupby('User Active Flag')['signup_date'].count()"
   ]
  },
  {
   "cell_type": "code",
   "execution_count": 17,
   "metadata": {},
   "outputs": [
    {
     "data": {
      "text/plain": [
       "User Active Flag\n",
       "0    0.62392\n",
       "1    0.37608\n",
       "Name: signup_date, dtype: float64"
      ]
     },
     "execution_count": 17,
     "metadata": {},
     "output_type": "execute_result"
    }
   ],
   "source": [
    "ultimate_data_challenge_df.groupby('User Active Flag')['signup_date'].count()/ultimate_data_challenge_df.shape[0]"
   ]
  },
  {
   "cell_type": "code",
   "execution_count": 18,
   "metadata": {},
   "outputs": [],
   "source": [
    "ultimate_data_challenge_df.loc[pd.isnull(ultimate_data_challenge_df['phone']), 'phone']='Unknown'"
   ]
  },
  {
   "cell_type": "code",
   "execution_count": 19,
   "metadata": {},
   "outputs": [],
   "source": [
    "categorical_variables=['city', 'phone','ultimate_black_user' ]\n",
    "continuous_variables=['trips_in_first_30_days',  'avg_rating_of_driver', 'avg_surge', 'surge_pct', 'weekday_pct', 'avg_dist', 'avg_rating_by_driver']"
   ]
  },
  {
   "cell_type": "markdown",
   "metadata": {},
   "source": [
    "# Exploratory Analysis on Categorical Variables:"
   ]
  },
  {
   "cell_type": "markdown",
   "metadata": {},
   "source": [
    "# Discovered patterns via data exploratory analysis:\n",
    "- Users who signed up in King's landing are more likely to get retained. Users who signed up in Astapor and Winterfell are less likely to be retained.\n",
    "- Android users are less likely to be retained users.\n",
    "- Users who did not take an Ultimate Black in their first 30 days are less likely to be retained users.\n",
    "- Active users took slightly more trips in their first 30 days. \n",
    "- Active users traveled slight less in distance on average in the first 30 days after signup.\n",
    "- Active users has taken more of the trips with surge multiplier compared with inactive users.\n",
    "- Retained users have taken more trips on weekdays compared with inactive users.\n",
    "- The distributions of the continuous variables are skewed. So log transformation variables might be needed.\n"
   ]
  },
  {
   "cell_type": "code",
   "execution_count": 237,
   "metadata": {},
   "outputs": [
    {
     "data": {
      "image/png": "[encoded data removed]",
      "text/plain": [
       "<Figure size 1080x360 with 1 Axes>"
      ]
     },
     "metadata": {
      "needs_background": "light"
     },
     "output_type": "display_data"
    },
    {
     "data": {
      "image/png": "[encoded data removed]",
      "text/plain": [
       "<Figure size 1080x360 with 1 Axes>"
      ]
     },
     "metadata": {
      "needs_background": "light"
     },
     "output_type": "display_data"
    },
    {
     "data": {
      "image/png": "[encoded data removed]",
      "text/plain": [
       "<Figure size 1080x360 with 1 Axes>"
      ]
     },
     "metadata": {
      "needs_background": "light"
     },
     "output_type": "display_data"
    }
   ],
   "source": [
    "def func_exploratory_analysis_categorical_variable(dataset, variable_name):\n",
    "    df_plot=pd.DataFrame()\n",
    "    df_plot=dataset.groupby(['User Active Flag', variable_name ])['signup_date'].count().reset_index()\n",
    "    fig, ax = plt.subplots(figsize=(15,5))\n",
    "    ax = sns.barplot(x=variable_name, y=\"signup_date\", hue=\"User Active Flag\", data=df_plot)\n",
    "    ax.set_xlabel(variable_name)\n",
    "    ax.set_ylabel(\"Number of users\")\n",
    "    ax.set_title(\"Number of Users By \" + variable_name + ' between active users and non-active users')\n",
    "    plt.show()\n",
    "\n",
    "dataset=ultimate_data_challenge_df\n",
    "for variable in categorical_variables:\n",
    "    func_exploratory_analysis_categorical_variable(dataset, variable) "
   ]
  },
  {
   "cell_type": "code",
   "execution_count": 262,
   "metadata": {
    "scrolled": false
   },
   "outputs": [
    {
     "name": "stdout",
     "output_type": "stream",
     "text": [
      "Below is the distribution of variable  trips_in_first_30_days : \n",
      "\n",
      "User Active Flag\n",
      "0    1.658482\n",
      "1    3.306318\n",
      "Name: trips_in_first_30_days, dtype: float64\n"
     ]
    },
    {
     "data": {
      "image/png": "[encoded data removed]",
      "text/plain": [
       "<Figure size 432x288 with 1 Axes>"
      ]
     },
     "metadata": {
      "needs_background": "light"
     },
     "output_type": "display_data"
    },
    {
     "name": "stdout",
     "output_type": "stream",
     "text": [
      "Below is the histogram of the trips_in_first_30_days :\n"
     ]
    },
    {
     "data": {
      "image/png": "[encoded data removed]",
      "text/plain": [
       "<Figure size 432x288 with 1 Axes>"
      ]
     },
     "metadata": {
      "needs_background": "light"
     },
     "output_type": "display_data"
    },
    {
     "name": "stdout",
     "output_type": "stream",
     "text": [
      "Below is the distribution of variable  avg_rating_of_driver : \n",
      "\n",
      "User Active Flag\n",
      "0    4.607557\n",
      "1    4.592930\n",
      "Name: avg_rating_of_driver, dtype: float64\n"
     ]
    },
    {
     "data": {
      "image/png": "[encoded data removed]",
      "text/plain": [
       "<Figure size 432x288 with 1 Axes>"
      ]
     },
     "metadata": {
      "needs_background": "light"
     },
     "output_type": "display_data"
    },
    {
     "name": "stdout",
     "output_type": "stream",
     "text": [
      "Below is the histogram of the avg_rating_of_driver :\n"
     ]
    },
    {
     "data": {
      "image/png": "[encoded data removed]",
      "text/plain": [
       "<Figure size 432x288 with 1 Axes>"
      ]
     },
     "metadata": {
      "needs_background": "light"
     },
     "output_type": "display_data"
    },
    {
     "name": "stdout",
     "output_type": "stream",
     "text": [
      "Below is the distribution of variable  avg_surge : \n",
      "\n",
      "User Active Flag\n",
      "0    1.075339\n",
      "1    1.073809\n",
      "Name: avg_surge, dtype: float64\n"
     ]
    },
    {
     "data": {
      "image/png": "[encoded data removed]",
      "text/plain": [
       "<Figure size 432x288 with 1 Axes>"
      ]
     },
     "metadata": {
      "needs_background": "light"
     },
     "output_type": "display_data"
    },
    {
     "name": "stdout",
     "output_type": "stream",
     "text": [
      "Below is the histogram of the avg_surge :\n"
     ]
    },
    {
     "data": {
      "image/png": "[encoded data removed]",
      "text/plain": [
       "<Figure size 432x288 with 1 Axes>"
      ]
     },
     "metadata": {
      "needs_background": "light"
     },
     "output_type": "display_data"
    },
    {
     "name": "stdout",
     "output_type": "stream",
     "text": [
      "Below is the distribution of variable  surge_pct : \n",
      "\n",
      "User Active Flag\n",
      "0    8.666739\n",
      "1    9.152797\n",
      "Name: surge_pct, dtype: float64\n"
     ]
    },
    {
     "data": {
      "image/png": "[encoded data removed]",
      "text/plain": [
       "<Figure size 432x288 with 1 Axes>"
      ]
     },
     "metadata": {
      "needs_background": "light"
     },
     "output_type": "display_data"
    },
    {
     "name": "stdout",
     "output_type": "stream",
     "text": [
      "Below is the histogram of the surge_pct :\n"
     ]
    },
    {
     "data": {
      "image/png": "[encoded data removed]",
      "text/plain": [
       "<Figure size 432x288 with 1 Axes>"
      ]
     },
     "metadata": {
      "needs_background": "light"
     },
     "output_type": "display_data"
    },
    {
     "name": "stdout",
     "output_type": "stream",
     "text": [
      "Below is the distribution of variable  weekday_pct : \n",
      "\n",
      "User Active Flag\n",
      "0    60.647032\n",
      "1    61.389034\n",
      "Name: weekday_pct, dtype: float64\n"
     ]
    },
    {
     "data": {
      "image/png": "[encoded data removed]",
      "text/plain": [
       "<Figure size 432x288 with 1 Axes>"
      ]
     },
     "metadata": {
      "needs_background": "light"
     },
     "output_type": "display_data"
    },
    {
     "name": "stdout",
     "output_type": "stream",
     "text": [
      "Below is the histogram of the weekday_pct :\n"
     ]
    },
    {
     "data": {
      "image/png": "[encoded data removed]",
      "text/plain": [
       "<Figure size 432x288 with 1 Axes>"
      ]
     },
     "metadata": {
      "needs_background": "light"
     },
     "output_type": "display_data"
    },
    {
     "name": "stdout",
     "output_type": "stream",
     "text": [
      "Below is the distribution of variable  avg_dist : \n",
      "\n",
      "User Active Flag\n",
      "0    6.207939\n",
      "1    5.114788\n",
      "Name: avg_dist, dtype: float64\n"
     ]
    },
    {
     "data": {
      "image/png": "[encoded data removed]",
      "text/plain": [
       "<Figure size 432x288 with 1 Axes>"
      ]
     },
     "metadata": {
      "needs_background": "light"
     },
     "output_type": "display_data"
    },
    {
     "name": "stdout",
     "output_type": "stream",
     "text": [
      "Below is the histogram of the avg_dist :\n"
     ]
    },
    {
     "data": {
      "image/png": "[encoded data removed]",
      "text/plain": [
       "<Figure size 432x288 with 1 Axes>"
      ]
     },
     "metadata": {
      "needs_background": "light"
     },
     "output_type": "display_data"
    },
    {
     "name": "stdout",
     "output_type": "stream",
     "text": [
      "Below is the distribution of variable  avg_rating_by_driver : \n",
      "\n",
      "User Active Flag\n",
      "0    4.787464\n",
      "1    4.762772\n",
      "Name: avg_rating_by_driver, dtype: float64\n"
     ]
    },
    {
     "data": {
      "image/png": "[encoded data removed]",
      "text/plain": [
       "<Figure size 432x288 with 1 Axes>"
      ]
     },
     "metadata": {
      "needs_background": "light"
     },
     "output_type": "display_data"
    },
    {
     "name": "stdout",
     "output_type": "stream",
     "text": [
      "Below is the histogram of the avg_rating_by_driver :\n"
     ]
    },
    {
     "data": {
      "image/png": "[encoded data removed]",
      "text/plain": [
       "<Figure size 432x288 with 1 Axes>"
      ]
     },
     "metadata": {
      "needs_background": "light"
     },
     "output_type": "display_data"
    }
   ],
   "source": [
    "def func_exploratory_analysis_continuous_variable(dataset, variable):\n",
    "    warnings.simplefilter('ignore')\n",
    "    print(\"Below is the distribution of variable \", variable, \":\", \"\\n\")\n",
    "    print(dataset.groupby('User Active Flag')[variable].mean())\n",
    "\n",
    "    sns.boxplot(x='User Active Flag', y=variable,\n",
    "                hue='User Active Flag',\n",
    "                data=dataset)\n",
    "    plt.show()\n",
    "    \n",
    "    print(\"Below is the histogram of the \"+ variable + \" :\")\n",
    "    sns.distplot(dataset[variable], bins=int(np.sqrt(dataset.shape[0])))\n",
    "    plt.show()\n",
    "    \n",
    "dataset=ultimate_data_challenge_df\n",
    "for variable in continuous_variables:\n",
    "    func_exploratory_analysis_continuous_variable(dataset, variable)"
   ]
  },
  {
   "cell_type": "markdown",
   "metadata": {},
   "source": [
    "# Fill the null value for the following fields:"
   ]
  },
  {
   "cell_type": "code",
   "execution_count": 20,
   "metadata": {},
   "outputs": [],
   "source": [
    "ultimate_data_challenge_df['avg_rating_of_driver']=ultimate_data_challenge_df['avg_rating_of_driver'].fillna(ultimate_data_challenge_df['avg_rating_of_driver'].mean())"
   ]
  },
  {
   "cell_type": "code",
   "execution_count": 21,
   "metadata": {},
   "outputs": [],
   "source": [
    "ultimate_data_challenge_df['avg_rating_by_driver']=ultimate_data_challenge_df['avg_rating_by_driver'].fillna(ultimate_data_challenge_df['avg_rating_by_driver'].mean())"
   ]
  },
  {
   "cell_type": "markdown",
   "metadata": {},
   "source": [
    "# Update the data frame to only include the fields needed:"
   ]
  },
  {
   "cell_type": "code",
   "execution_count": 22,
   "metadata": {},
   "outputs": [],
   "source": [
    "ultimate_data_challenge_df_update=ultimate_data_challenge_df[['city', 'trips_in_first_30_days',  'avg_rating_of_driver',\n",
    "       'avg_surge',  'phone', 'surge_pct',\n",
    "       'ultimate_black_user', 'weekday_pct', 'avg_dist',\n",
    "       'avg_rating_by_driver',\n",
    "       'User Active Flag']]"
   ]
  },
  {
   "cell_type": "markdown",
   "metadata": {},
   "source": [
    "Create dummy variables : ultimate_black_user"
   ]
  },
  {
   "cell_type": "code",
   "execution_count": 23,
   "metadata": {},
   "outputs": [
    {
     "name": "stderr",
     "output_type": "stream",
     "text": [
      "C:\\Users\\yuka.abe\\AppData\\Local\\Continuum\\anaconda3\\lib\\site-packages\\pandas\\core\\indexing.py:543: SettingWithCopyWarning: \n",
      "A value is trying to be set on a copy of a slice from a DataFrame.\n",
      "Try using .loc[row_indexer,col_indexer] = value instead\n",
      "\n",
      "See the caveats in the documentation: http://pandas.pydata.org/pandas-docs/stable/indexing.html#indexing-view-versus-copy\n",
      "  self.obj[item] = s\n"
     ]
    }
   ],
   "source": [
    "ultimate_data_challenge_df_update.loc[ultimate_data_challenge_df_update['ultimate_black_user']==True, 'ultimate_black_user']=1\n",
    "ultimate_data_challenge_df_update.loc[ultimate_data_challenge_df_update['ultimate_black_user']==False, 'ultimate_black_user']=0"
   ]
  },
  {
   "cell_type": "code",
   "execution_count": 24,
   "metadata": {},
   "outputs": [
    {
     "data": {
      "text/plain": [
       "Index(['city', 'trips_in_first_30_days', 'avg_rating_of_driver', 'avg_surge',\n",
       "       'phone', 'surge_pct', 'ultimate_black_user', 'weekday_pct', 'avg_dist',\n",
       "       'avg_rating_by_driver', 'User Active Flag'],\n",
       "      dtype='object')"
      ]
     },
     "execution_count": 24,
     "metadata": {},
     "output_type": "execute_result"
    }
   ],
   "source": [
    "ultimate_data_challenge_df_update.columns"
   ]
  },
  {
   "cell_type": "code",
   "execution_count": 25,
   "metadata": {},
   "outputs": [],
   "source": [
    "phone_dummy_variables=pd.get_dummies(ultimate_data_challenge_df_update['phone'])[['Android', 'iPhone' ]]\n",
    "city_dummy_variables=pd.get_dummies(ultimate_data_challenge_df_update['city'])[['Astapor', \"King's Landing\"]]\n",
    "phone_dummy_variables.columns='phone' +\"_\" +phone_dummy_variables.columns\n",
    "city_dummy_variables.columns='city' +\"_\" +city_dummy_variables.columns"
   ]
  },
  {
   "cell_type": "code",
   "execution_count": 26,
   "metadata": {},
   "outputs": [],
   "source": [
    "ultimate_data_challenge_df_update1=ultimate_data_challenge_df_update[['trips_in_first_30_days', 'avg_rating_of_driver', 'avg_surge', 'surge_pct', 'ultimate_black_user', 'weekday_pct', 'avg_dist',\n",
    "       'avg_rating_by_driver', 'User Active Flag']]\n",
    "ultimate_data_challenge_df_update1=pd.merge(ultimate_data_challenge_df_update1, phone_dummy_variables, left_index=True, right_index=True)\n",
    "ultimate_data_challenge_df_update1=pd.merge(ultimate_data_challenge_df_update1, city_dummy_variables, left_index=True, right_index=True)"
   ]
  },
  {
   "cell_type": "markdown",
   "metadata": {},
   "source": [
    "# Classification: Logistic Regression"
   ]
  },
  {
   "cell_type": "markdown",
   "metadata": {},
   "source": [
    "I'm going to try logistic regression in this case since it is the most interpretable algorithm. By looking at the coefficients, I can understand what are the important factors for user retention."
   ]
  },
  {
   "cell_type": "code",
   "execution_count": 28,
   "metadata": {},
   "outputs": [],
   "source": [
    "feature_list=['trips_in_first_30_days', 'avg_rating_of_driver', 'avg_surge',\n",
    "       'surge_pct', 'ultimate_black_user', 'weekday_pct', 'avg_dist',\n",
    "       'avg_rating_by_driver', 'phone_Android',\n",
    "       'phone_iPhone', 'city_Astapor', \"city_King's Landing\" ]\n",
    "X, y=ultimate_data_challenge_df_update1[feature_list], ultimate_data_challenge_df_update1['User Active Flag']"
   ]
  },
  {
   "cell_type": "markdown",
   "metadata": {},
   "source": [
    "Use train test split to split the data into training set and testing set"
   ]
  },
  {
   "cell_type": "code",
   "execution_count": 29,
   "metadata": {},
   "outputs": [],
   "source": [
    "X_train, X_test, y_train, y_test=train_test_split(X,y, test_size=0.2, random_state=123)"
   ]
  },
  {
   "cell_type": "code",
   "execution_count": 30,
   "metadata": {},
   "outputs": [
    {
     "name": "stdout",
     "output_type": "stream",
     "text": [
      "Training Set:  (40000, 12)\n",
      "Training Set:  (40000,)\n",
      "Testing set:  (10000, 12)\n",
      "Testing set:  (10000,)\n"
     ]
    }
   ],
   "source": [
    "print(\"Training Set: \", X_train.shape)\n",
    "print(\"Training Set: \", y_train.shape)\n",
    "print(\"Testing set: \", X_test.shape)\n",
    "print(\"Testing set: \", y_test.shape)"
   ]
  },
  {
   "cell_type": "markdown",
   "metadata": {},
   "source": [
    "# Fit the logistic regression model on the training dataset:"
   ]
  },
  {
   "cell_type": "code",
   "execution_count": 334,
   "metadata": {},
   "outputs": [],
   "source": [
    "Logistic_Regression_clf=LogisticRegression(random_state=123).fit(X_train, y_train)"
   ]
  },
  {
   "cell_type": "markdown",
   "metadata": {},
   "source": [
    "# Below is the performance of the logistic regression model:"
   ]
  },
  {
   "cell_type": "markdown",
   "metadata": {},
   "source": [
    "- The data has inbalanced classes (38% of the users are active users and the rest of users are inactive users). That's why the model has a good accuracy score and ROC AUC score. However, the recall score is low on the training and testing set, which means the model will have problem capturing the real active users who are likely to be retained."
   ]
  },
  {
   "cell_type": "code",
   "execution_count": 337,
   "metadata": {},
   "outputs": [
    {
     "name": "stdout",
     "output_type": "stream",
     "text": [
      "Below is the performance from the training set: \n",
      "Accuracy Score:  0.7187501683558619\n",
      "Precision Score:  0.6713477464175583\n",
      "Recall Score:  0.4920115830030287\n",
      "F1 Score:  0.5678282599824713\n",
      "ROC AUC Score:  0.7605753978342578\n"
     ]
    }
   ],
   "source": [
    "print(\"Below is the performance from the training set: \")\n",
    "print(\"Accuracy Score: \", cross_val_score(Logistic_Regression_clf, X_train,y_train, cv=5).mean())\n",
    "print(\"Precision Score: \", cross_val_score(Logistic_Regression_clf, X_train,y_train, cv=5, scoring='precision').mean())\n",
    "print(\"Recall Score: \", cross_val_score(Logistic_Regression_clf,X_train,y_train, cv=5, scoring='recall').mean())\n",
    "print(\"F1 Score: \", cross_val_score(Logistic_Regression_clf, X_train,y_train, cv=5, scoring='f1').mean())\n",
    "print(\"ROC AUC Score: \", cross_val_score(Logistic_Regression_clf, X_train,y_train, cv=5, scoring='roc_auc').mean())"
   ]
  },
  {
   "cell_type": "code",
   "execution_count": 339,
   "metadata": {},
   "outputs": [
    {
     "name": "stdout",
     "output_type": "stream",
     "text": [
      "Below is the performance from the testing set: \n",
      "Accuracy Score:  0.7168\n",
      "Precision Score:  0.6719768283852281\n",
      "Recall Score:  0.4907456372289794\n",
      "F1 Score:  0.567237163814181\n",
      "Roc Auc Score:  0.6725198112166125\n"
     ]
    }
   ],
   "source": [
    "print(\"Below is the performance from the testing set: \")\n",
    "y_pred_class= Logistic_Regression_clf.predict(X_test)\n",
    "Accuracy_score=metrics.accuracy_score(y_test, y_pred_class)\n",
    "Precision_score=metrics.precision_score(y_test, y_pred_class)\n",
    "Recall_score=metrics.recall_score(y_test, y_pred_class)\n",
    "f1_score=metrics.f1_score(y_test, y_pred_class)\n",
    "roc_auc_score = metrics.roc_auc_score(y_test, y_pred_class)\n",
    "\n",
    "print('Accuracy Score: ', Accuracy_score)\n",
    "print('Precision Score: ', Precision_score)\n",
    "print('Recall Score: ', Recall_score)\n",
    "print('F1 Score: ', f1_score)\n",
    "print('Roc Auc Score: ', roc_auc_score)\n"
   ]
  },
  {
   "cell_type": "markdown",
   "metadata": {},
   "source": [
    "# Below is the confusion matrix"
   ]
  },
  {
   "cell_type": "markdown",
   "metadata": {},
   "source": [
    "By looking at the confusion matrix, the model is doing a good job in identifying the churned users. But the model is having some problem in predicting the non-active users."
   ]
  },
  {
   "cell_type": "code",
   "execution_count": 346,
   "metadata": {},
   "outputs": [
    {
     "data": {
      "image/png": "[encoded data removed]",
      "text/plain": [
       "<Figure size 288x288 with 1 Axes>"
      ]
     },
     "metadata": {
      "needs_background": "light"
     },
     "output_type": "display_data"
    }
   ],
   "source": [
    "conf_mx=confusion_matrix(y_test, y_pred_class)\n",
    "plt.matshow(conf_mx, cmap=plt.cm.gray)\n",
    "plt.title(\"Confusion Matrix\")\n",
    "plt.show()"
   ]
  },
  {
   "cell_type": "code",
   "execution_count": 368,
   "metadata": {},
   "outputs": [],
   "source": [
    "X_update=X\n",
    "for field in ['trips_in_first_30_days', 'avg_rating_of_driver', 'avg_surge',\n",
    "       'surge_pct',  'weekday_pct', 'avg_dist',\n",
    "       'avg_rating_by_driver' ]:\n",
    "    new_field_name=field+'_log_transformation'\n",
    "    X_update[new_field_name]= np.log(X[field]+1)\n",
    "    del X_update[field]"
   ]
  },
  {
   "cell_type": "code",
   "execution_count": 370,
   "metadata": {},
   "outputs": [],
   "source": [
    "X_train1, X_test1, y_train1, y_test1=train_test_split(X_update, y, test_size=0.2, random_state=123)"
   ]
  },
  {
   "cell_type": "code",
   "execution_count": 371,
   "metadata": {},
   "outputs": [],
   "source": [
    "Logistic_Regression_clf_update=LogisticRegression(random_state=123).fit(X_train1, y_train1)"
   ]
  },
  {
   "cell_type": "code",
   "execution_count": 372,
   "metadata": {},
   "outputs": [
    {
     "name": "stdout",
     "output_type": "stream",
     "text": [
      "Below is the performance from the training set: \n",
      "Accuracy Score:  0.7322501060292985\n",
      "Precision Score:  0.6802810044659023\n",
      "Recall Score:  0.5418049810457937\n",
      "F1 Score:  0.6031451415181814\n",
      "ROC AUC Score:  0.7796107628890117\n"
     ]
    }
   ],
   "source": [
    "print(\"Below is the performance from the training set: \")\n",
    "print(\"Accuracy Score: \", cross_val_score(Logistic_Regression_clf_update, X_train1,y_train1, cv=5).mean())\n",
    "print(\"Precision Score: \", cross_val_score(Logistic_Regression_clf_update, X_train1,y_train1, cv=5, scoring='precision').mean())\n",
    "print(\"Recall Score: \", cross_val_score(Logistic_Regression_clf_update,X_train1,y_train1, cv=5, scoring='recall').mean())\n",
    "print(\"F1 Score: \", cross_val_score(Logistic_Regression_clf_update, X_train1,y_train1, cv=5, scoring='f1').mean())\n",
    "print(\"ROC AUC Score: \", cross_val_score(Logistic_Regression_clf_update, X_train1,y_train1, cv=5, scoring='roc_auc').mean())"
   ]
  },
  {
   "cell_type": "code",
   "execution_count": 373,
   "metadata": {},
   "outputs": [
    {
     "name": "stdout",
     "output_type": "stream",
     "text": [
      "Below is the performance from the testing set: \n",
      "Accuracy Score:  0.73\n",
      "Precision Score:  0.6799733865602129\n",
      "Recall Score:  0.5404547858276044\n",
      "F1 Score:  0.6022392457277548\n",
      "Roc Auc Score:  0.6928713298710232\n"
     ]
    }
   ],
   "source": [
    "print(\"Below is the performance from the testing set: \")\n",
    "y_pred_class1= Logistic_Regression_clf_update.predict(X_test1)\n",
    "Accuracy_score=metrics.accuracy_score(y_test1, y_pred_class1)\n",
    "Precision_score=metrics.precision_score(y_test1, y_pred_class1)\n",
    "Recall_score=metrics.recall_score(y_test1, y_pred_class1)\n",
    "f1_score=metrics.f1_score(y_test1, y_pred_class1)\n",
    "roc_auc_score = metrics.roc_auc_score(y_test1, y_pred_class1)\n",
    "\n",
    "print('Accuracy Score: ', Accuracy_score)\n",
    "print('Precision Score: ', Precision_score)\n",
    "print('Recall Score: ', Recall_score)\n",
    "print('F1 Score: ', f1_score)\n",
    "print('Roc Auc Score: ', roc_auc_score)\n"
   ]
  },
  {
   "cell_type": "markdown",
   "metadata": {},
   "source": [
    "The model performance looks better after taking the log transformation. The recall score has improved compared with the original model."
   ]
  },
  {
   "cell_type": "code",
   "execution_count": 374,
   "metadata": {},
   "outputs": [
    {
     "data": {
      "image/png": "[encoded data removed]",
      "text/plain": [
       "<Figure size 288x288 with 1 Axes>"
      ]
     },
     "metadata": {
      "needs_background": "light"
     },
     "output_type": "display_data"
    }
   ],
   "source": [
    "conf_mx=confusion_matrix(y_test1, y_pred_class1)\n",
    "plt.matshow(conf_mx, cmap=plt.cm.gray)\n",
    "plt.title(\"Confusion Matrix\")\n",
    "plt.show()"
   ]
  },
  {
   "cell_type": "code",
   "execution_count": 451,
   "metadata": {},
   "outputs": [],
   "source": [
    "coefficient_list=Logistic_Regression_clf_update.coef_"
   ]
  },
  {
   "cell_type": "code",
   "execution_count": 452,
   "metadata": {},
   "outputs": [],
   "source": [
    "coefficient_df=pd.DataFrame({'Coefficient Name': list(X_train1.columns), 'Coefficients':list(coefficient_list[0]) })\n",
    "coefficient_df.index=list(coefficient_df['Coefficient Name'])"
   ]
  },
  {
   "cell_type": "code",
   "execution_count": 453,
   "metadata": {},
   "outputs": [
    {
     "data": {
      "text/plain": [
       "Text(0.5, 1.0, 'Coefficient of Logistic Regression Model')"
      ]
     },
     "execution_count": 453,
     "metadata": {},
     "output_type": "execute_result"
    },
    {
     "data": {
      "image/png": "[encoded data removed]",
      "text/plain": [
       "<Figure size 432x288 with 1 Axes>"
      ]
     },
     "metadata": {
      "needs_background": "light"
     },
     "output_type": "display_data"
    }
   ],
   "source": [
    "coefficient_df.sort_values(by='Coefficients', ascending=False, inplace=True)\n",
    "coefficient_df['Coefficients'].plot(kind='barh')\n",
    "plt.xlabel(\"Coefficient\")\n",
    "plt.title(\"Coefficient of Logistic Regression Model\")"
   ]
  },
  {
   "cell_type": "markdown",
   "metadata": {},
   "source": [
    "Based on the coefficients of the logistic regression, the average surge multiplier over all of the users' trips has most negative impact on users' likelihodd to be classified as active users. The sign up place \"king's landing\", the ultimate black user, the iphone user have the most important positive impact on the user probabily to be classified as retained users."
   ]
  },
  {
   "cell_type": "markdown",
   "metadata": {},
   "source": [
    "# Try ridge to adjust the coefficients from the logistic regression for avoiding overfitting"
   ]
  },
  {
   "cell_type": "code",
   "execution_count": 448,
   "metadata": {},
   "outputs": [],
   "source": [
    "Logistic_Regression_clf_update_ridge=LogisticRegression(random_state=123, penalty='l2').fit(X_train1, y_train1)"
   ]
  },
  {
   "cell_type": "code",
   "execution_count": 449,
   "metadata": {},
   "outputs": [
    {
     "name": "stdout",
     "output_type": "stream",
     "text": [
      "Below is the performance from the training set: \n",
      "Accuracy Score:  0.7322501060292985\n",
      "Precision Score:  0.6802810044659023\n",
      "Recall Score:  0.5418049810457937\n",
      "F1 Score:  0.6031451415181814\n",
      "ROC AUC Score:  0.7796107628890117\n"
     ]
    }
   ],
   "source": [
    "print(\"Below is the performance from the training set: \")\n",
    "print(\"Accuracy Score: \", cross_val_score(Logistic_Regression_clf_update_ridge, X_train1,y_train1, cv=5).mean())\n",
    "print(\"Precision Score: \", cross_val_score(Logistic_Regression_clf_update_ridge, X_train1,y_train1, cv=5, scoring='precision').mean())\n",
    "print(\"Recall Score: \", cross_val_score(Logistic_Regression_clf_update_ridge,X_train1,y_train1, cv=5, scoring='recall').mean())\n",
    "print(\"F1 Score: \", cross_val_score(Logistic_Regression_clf_update_ridge, X_train1,y_train1, cv=5, scoring='f1').mean())\n",
    "print(\"ROC AUC Score: \", cross_val_score(Logistic_Regression_clf_update_ridge, X_train1,y_train1, cv=5, scoring='roc_auc').mean())"
   ]
  },
  {
   "cell_type": "code",
   "execution_count": 450,
   "metadata": {},
   "outputs": [
    {
     "name": "stdout",
     "output_type": "stream",
     "text": [
      "Below is the performance from the testing set: \n",
      "Accuracy Score:  0.73\n",
      "Precision Score:  0.6799733865602129\n",
      "Recall Score:  0.5404547858276044\n",
      "F1 Score:  0.6022392457277548\n",
      "Roc Auc Score:  0.6928713298710232\n"
     ]
    }
   ],
   "source": [
    "print(\"Below is the performance from the testing set: \")\n",
    "y_pred_class1= Logistic_Regression_clf_update_ridge.predict(X_test1)\n",
    "Accuracy_score=metrics.accuracy_score(y_test1, y_pred_class1)\n",
    "Precision_score=metrics.precision_score(y_test1, y_pred_class1)\n",
    "Recall_score=metrics.recall_score(y_test1, y_pred_class1)\n",
    "f1_score=metrics.f1_score(y_test1, y_pred_class1)\n",
    "roc_auc_score = metrics.roc_auc_score(y_test1, y_pred_class1)\n",
    "\n",
    "print('Accuracy Score: ', Accuracy_score)\n",
    "print('Precision Score: ', Precision_score)\n",
    "print('Recall Score: ', Recall_score)\n",
    "print('F1 Score: ', f1_score)\n",
    "print('Roc Auc Score: ', roc_auc_score)"
   ]
  },
  {
   "cell_type": "markdown",
   "metadata": {},
   "source": [
    "Based on the coefficients from the ridge model, the average distance in miles per trip in the first 30 days and the percent of trips with surge multiplier have the most negative impact on the classification. Number of trips in the first 30 days, place where users signed in (King's Landing) and Iphone device have the most positive impact on the classification."
   ]
  },
  {
   "cell_type": "code",
   "execution_count": 455,
   "metadata": {},
   "outputs": [
    {
     "data": {
      "text/plain": [
       "Text(0.5, 1.0, 'Coefficient of Logistic Regression Model (Ridge Model)')"
      ]
     },
     "execution_count": 455,
     "metadata": {},
     "output_type": "execute_result"
    },
    {
     "data": {
      "image/png": "[encoded data removed]",
      "text/plain": [
       "<Figure size 432x288 with 1 Axes>"
      ]
     },
     "metadata": {
      "needs_background": "light"
     },
     "output_type": "display_data"
    }
   ],
   "source": [
    "coefficient_list_ridge=Logistic_Regression_clf_update_ridge.coef_\n",
    "coefficient_df_ridge=pd.DataFrame({'Coefficient Name': list(X_train1.columns), 'Coefficients':list(coefficient_list_ridge[0]) })\n",
    "coefficient_df_ridge.index=list(coefficient_df['Coefficient Name'])\n",
    "coefficient_df_ridge.sort_values(by='Coefficients', ascending=False, inplace=True)\n",
    "coefficient_df_ridge['Coefficients'].plot(kind='barh')\n",
    "plt.xlabel(\"Coefficient\")\n",
    "plt.title(\"Coefficient of Logistic Regression Model (Ridge Model)\")"
   ]
  },
  {
   "cell_type": "markdown",
   "metadata": {},
   "source": [
    "Since the logistic regression is not doing a good job in capturing the active uses. The recall is relatively low. I'm also going to try out the random forest classification model since random forest usually returns more accurate model prediction and also by ajusting the number of estimators, it can avoid overfitting the model. The only drawback is that the model is less interpretable, you can only know the important factors for classification without direction of the impact."
   ]
  },
  {
   "cell_type": "markdown",
   "metadata": {},
   "source": [
    "# Random Forest Classifier"
   ]
  },
  {
   "cell_type": "code",
   "execution_count": 378,
   "metadata": {},
   "outputs": [
    {
     "name": "stdout",
     "output_type": "stream",
     "text": [
      "Wall time: 0 ns\n"
     ]
    }
   ],
   "source": [
    "%time\n",
    "random_forest_score=[]\n",
    "n_estimators_list=[10, 20, 50, 100, 150]\n",
    "for n_estimator in n_estimators_list:\n",
    "    for criterion in ['gini', 'entropy']:\n",
    "        start_time=time.time()\n",
    "        model_random_forest_clf=RandomForestClassifier(n_estimators=n_estimator,criterion=criterion, n_jobs=-1).fit(X_train,y_train)\n",
    "        end_time=time.time()\n",
    "        runing_time=end_time-start_time\n",
    "        y_pred_class=model_random_forest_clf.predict(X_test)\n",
    "        Accuracy_score=metrics.accuracy_score(y_test, y_pred_class)\n",
    "        Precision_score=metrics.precision_score(y_test, y_pred_class)\n",
    "        Recall_score=metrics.recall_score(y_test, y_pred_class)\n",
    "        f1_score=metrics.f1_score(y_test, y_pred_class)\n",
    "        roc_auc_score = metrics.roc_auc_score(y_test, y_pred_class)\n",
    "        \n",
    "        random_forest_score.append(dict(n_estimator=n_estimator, criterion=criterion,  Accuracy=Accuracy_score, Precision=Precision_score, Recall=Recall_score, f1= f1_score,roc_auc=roc_auc_score, runing_time=runing_time ))\n",
    "        \n",
    "random_forest_score=pd.DataFrame(random_forest_score)\n"
   ]
  },
  {
   "cell_type": "code",
   "execution_count": 379,
   "metadata": {},
   "outputs": [
    {
     "data": {
      "text/html": [
       "<div>\n",
       "<style scoped>\n",
       "    .dataframe tbody tr th:only-of-type {\n",
       "        vertical-align: middle;\n",
       "    }\n",
       "\n",
       "    .dataframe tbody tr th {\n",
       "        vertical-align: top;\n",
       "    }\n",
       "\n",
       "    .dataframe thead th {\n",
       "        text-align: right;\n",
       "    }\n",
       "</style>\n",
       "<table border=\"1\" class=\"dataframe\">\n",
       "  <thead>\n",
       "    <tr style=\"text-align: right;\">\n",
       "      <th></th>\n",
       "      <th>Accuracy</th>\n",
       "      <th>Precision</th>\n",
       "      <th>Recall</th>\n",
       "      <th>criterion</th>\n",
       "      <th>f1</th>\n",
       "      <th>n_estimator</th>\n",
       "      <th>roc_auc</th>\n",
       "      <th>runing_time</th>\n",
       "    </tr>\n",
       "  </thead>\n",
       "  <tbody>\n",
       "    <tr>\n",
       "      <th>0</th>\n",
       "      <td>0.7475</td>\n",
       "      <td>0.691908</td>\n",
       "      <td>0.599154</td>\n",
       "      <td>gini</td>\n",
       "      <td>0.642199</td>\n",
       "      <td>10</td>\n",
       "      <td>0.718442</td>\n",
       "      <td>0.226772</td>\n",
       "    </tr>\n",
       "    <tr>\n",
       "      <th>1</th>\n",
       "      <td>0.7436</td>\n",
       "      <td>0.682008</td>\n",
       "      <td>0.603384</td>\n",
       "      <td>entropy</td>\n",
       "      <td>0.640292</td>\n",
       "      <td>10</td>\n",
       "      <td>0.716134</td>\n",
       "      <td>0.220461</td>\n",
       "    </tr>\n",
       "    <tr>\n",
       "      <th>2</th>\n",
       "      <td>0.7535</td>\n",
       "      <td>0.688628</td>\n",
       "      <td>0.635643</td>\n",
       "      <td>gini</td>\n",
       "      <td>0.661075</td>\n",
       "      <td>20</td>\n",
       "      <td>0.730414</td>\n",
       "      <td>0.462514</td>\n",
       "    </tr>\n",
       "    <tr>\n",
       "      <th>3</th>\n",
       "      <td>0.7508</td>\n",
       "      <td>0.686201</td>\n",
       "      <td>0.628503</td>\n",
       "      <td>entropy</td>\n",
       "      <td>0.656086</td>\n",
       "      <td>20</td>\n",
       "      <td>0.726844</td>\n",
       "      <td>0.562511</td>\n",
       "    </tr>\n",
       "    <tr>\n",
       "      <th>4</th>\n",
       "      <td>0.7558</td>\n",
       "      <td>0.686734</td>\n",
       "      <td>0.651507</td>\n",
       "      <td>gini</td>\n",
       "      <td>0.668657</td>\n",
       "      <td>50</td>\n",
       "      <td>0.735371</td>\n",
       "      <td>1.038600</td>\n",
       "    </tr>\n",
       "    <tr>\n",
       "      <th>5</th>\n",
       "      <td>0.7559</td>\n",
       "      <td>0.687448</td>\n",
       "      <td>0.650185</td>\n",
       "      <td>entropy</td>\n",
       "      <td>0.668297</td>\n",
       "      <td>50</td>\n",
       "      <td>0.735192</td>\n",
       "      <td>1.321278</td>\n",
       "    </tr>\n",
       "    <tr>\n",
       "      <th>6</th>\n",
       "      <td>0.7565</td>\n",
       "      <td>0.686928</td>\n",
       "      <td>0.654416</td>\n",
       "      <td>gini</td>\n",
       "      <td>0.670278</td>\n",
       "      <td>100</td>\n",
       "      <td>0.736503</td>\n",
       "      <td>1.754262</td>\n",
       "    </tr>\n",
       "    <tr>\n",
       "      <th>7</th>\n",
       "      <td>0.7561</td>\n",
       "      <td>0.685857</td>\n",
       "      <td>0.655209</td>\n",
       "      <td>entropy</td>\n",
       "      <td>0.670183</td>\n",
       "      <td>100</td>\n",
       "      <td>0.736337</td>\n",
       "      <td>2.860429</td>\n",
       "    </tr>\n",
       "    <tr>\n",
       "      <th>8</th>\n",
       "      <td>0.7551</td>\n",
       "      <td>0.685087</td>\n",
       "      <td>0.652300</td>\n",
       "      <td>gini</td>\n",
       "      <td>0.668292</td>\n",
       "      <td>150</td>\n",
       "      <td>0.734963</td>\n",
       "      <td>2.906558</td>\n",
       "    </tr>\n",
       "    <tr>\n",
       "      <th>9</th>\n",
       "      <td>0.7579</td>\n",
       "      <td>0.686899</td>\n",
       "      <td>0.661290</td>\n",
       "      <td>entropy</td>\n",
       "      <td>0.673852</td>\n",
       "      <td>150</td>\n",
       "      <td>0.738976</td>\n",
       "      <td>3.432781</td>\n",
       "    </tr>\n",
       "  </tbody>\n",
       "</table>\n",
       "</div>"
      ],
      "text/plain": [
       "   Accuracy  Precision    Recall criterion        f1  n_estimator   roc_auc  \\\n",
       "0    0.7475   0.691908  0.599154      gini  0.642199           10  0.718442   \n",
       "1    0.7436   0.682008  0.603384   entropy  0.640292           10  0.716134   \n",
       "2    0.7535   0.688628  0.635643      gini  0.661075           20  0.730414   \n",
       "3    0.7508   0.686201  0.628503   entropy  0.656086           20  0.726844   \n",
       "4    0.7558   0.686734  0.651507      gini  0.668657           50  0.735371   \n",
       "5    0.7559   0.687448  0.650185   entropy  0.668297           50  0.735192   \n",
       "6    0.7565   0.686928  0.654416      gini  0.670278          100  0.736503   \n",
       "7    0.7561   0.685857  0.655209   entropy  0.670183          100  0.736337   \n",
       "8    0.7551   0.685087  0.652300      gini  0.668292          150  0.734963   \n",
       "9    0.7579   0.686899  0.661290   entropy  0.673852          150  0.738976   \n",
       "\n",
       "   runing_time  \n",
       "0     0.226772  \n",
       "1     0.220461  \n",
       "2     0.462514  \n",
       "3     0.562511  \n",
       "4     1.038600  \n",
       "5     1.321278  \n",
       "6     1.754262  \n",
       "7     2.860429  \n",
       "8     2.906558  \n",
       "9     3.432781  "
      ]
     },
     "execution_count": 379,
     "metadata": {},
     "output_type": "execute_result"
    }
   ],
   "source": [
    "random_forest_score"
   ]
  },
  {
   "cell_type": "markdown",
   "metadata": {},
   "source": [
    "The performance for entropy looks better than gini. For entropy, the higher the number of estimators the better the performance is."
   ]
  },
  {
   "cell_type": "code",
   "execution_count": 382,
   "metadata": {},
   "outputs": [
    {
     "data": {
      "text/plain": [
       "<matplotlib.axes._subplots.AxesSubplot at 0x2524fd45da0>"
      ]
     },
     "execution_count": 382,
     "metadata": {},
     "output_type": "execute_result"
    },
    {
     "data": {
      "image/png": "[encoded data removed]",
      "text/plain": [
       "<Figure size 1440x720 with 6 Axes>"
      ]
     },
     "metadata": {
      "needs_background": "light"
     },
     "output_type": "display_data"
    }
   ],
   "source": [
    "fig, axes=plt.subplots(2,3,figsize=(20, 10))\n",
    "random_forest_score.groupby(['n_estimator', 'criterion'])['Accuracy'].mean().unstack().plot(title=\"Accuracy Score of the Random Forest Classifier\", ax=axes[0,0])\n",
    "random_forest_score.groupby(['n_estimator', 'criterion'])['Precision'].mean().unstack().plot(title=\"Precision Score of the Random Forest Classifier\", ax=axes[0,1])\n",
    "random_forest_score.groupby(['n_estimator', 'criterion'])['Recall'].mean().unstack().plot(title=\"Recall Score of the Random Forest Classifier\", ax=axes[0,2])\n",
    "random_forest_score.groupby(['n_estimator', 'criterion'])['f1'].mean().unstack().plot(title=\"F1 Score of the Random Forest Classifier\", ax=axes[1,0])\n",
    "random_forest_score.groupby(['n_estimator', 'criterion'])['roc_auc'].mean().unstack().plot(title=\"Roc Auc Score of the Random Forest Classifier\", ax=axes[1,1])\n"
   ]
  },
  {
   "cell_type": "code",
   "execution_count": 8,
   "metadata": {},
   "outputs": [],
   "source": [
    "from sklearn.model_selection import GridSearchCV\n",
    "from pprint import pprint\n",
    "from sklearn.model_selection import RandomizedSearchCV\n"
   ]
  },
  {
   "cell_type": "markdown",
   "metadata": {},
   "source": [
    "# Use randomized search to find the best hyperparameters for random forest model:"
   ]
  },
  {
   "cell_type": "code",
   "execution_count": 31,
   "metadata": {},
   "outputs": [
    {
     "name": "stdout",
     "output_type": "stream",
     "text": [
      "{'bootstrap': [True, False],\n",
      " 'max_depth': [10, 20, 30, 40, 50, 60, 70, 80, 90, 100, 110, None],\n",
      " 'min_samples_leaf': [1, 2, 4, 10],\n",
      " 'min_samples_split': [2, 5, 10],\n",
      " 'n_estimators': [150,\n",
      "                  157,\n",
      "                  164,\n",
      "                  171,\n",
      "                  178,\n",
      "                  185,\n",
      "                  192,\n",
      "                  200,\n",
      "                  207,\n",
      "                  214,\n",
      "                  221,\n",
      "                  228,\n",
      "                  235,\n",
      "                  242,\n",
      "                  250,\n",
      "                  257,\n",
      "                  264,\n",
      "                  271,\n",
      "                  278,\n",
      "                  285,\n",
      "                  292,\n",
      "                  300,\n",
      "                  307,\n",
      "                  314,\n",
      "                  321,\n",
      "                  328,\n",
      "                  335,\n",
      "                  342,\n",
      "                  350,\n",
      "                  357,\n",
      "                  364,\n",
      "                  371,\n",
      "                  378,\n",
      "                  385,\n",
      "                  392,\n",
      "                  400,\n",
      "                  407,\n",
      "                  414,\n",
      "                  421,\n",
      "                  428,\n",
      "                  435,\n",
      "                  442,\n",
      "                  450,\n",
      "                  457,\n",
      "                  464,\n",
      "                  471,\n",
      "                  478,\n",
      "                  485,\n",
      "                  492,\n",
      "                  500]}\n"
     ]
    }
   ],
   "source": [
    "# Number of trees in random forest\n",
    "n_estimators = [int(x) for x in np.linspace(start = 150, stop = 500, num = 50)]\n",
    "# Number of features to consider at every split\n",
    "#max_features = ['auto', 'sqrt']\n",
    "\n",
    "# Maximum number of levels in tree\n",
    "max_depth = [int(x) for x in np.linspace(10, 110, num = 11)]\n",
    "max_depth.append(None)\n",
    "\n",
    "# Minimum number of samples required to split a node\n",
    "min_samples_split = [2, 5, 10]\n",
    "# Minimum number of samples required at each leaf node\n",
    "min_samples_leaf = [1, 2, 4, 10]\n",
    "# Method of selecting samples for training each tree\n",
    "bootstrap = [True, False]\n",
    "\n",
    "# Create the random grid\n",
    "random_grid = {'n_estimators': n_estimators,\n",
    "               #'max_features': max_features,\n",
    "               'max_depth': max_depth,\n",
    "               'min_samples_split': min_samples_split,\n",
    "               'min_samples_leaf': min_samples_leaf,\n",
    "               'bootstrap': bootstrap}\n",
    "\n",
    "pprint(random_grid)"
   ]
  },
  {
   "cell_type": "code",
   "execution_count": 33,
   "metadata": {},
   "outputs": [
    {
     "name": "stdout",
     "output_type": "stream",
     "text": [
      "Fitting 3 folds for each of 10 candidates, totalling 30 fits\n"
     ]
    },
    {
     "name": "stderr",
     "output_type": "stream",
     "text": [
      "[Parallel(n_jobs=-1)]: Using backend LokyBackend with 4 concurrent workers.\n",
      "[Parallel(n_jobs=-1)]: Done  30 out of  30 | elapsed:  3.3min finished\n"
     ]
    }
   ],
   "source": [
    "# Use the random grid to search for best hyperparameters\n",
    "# First create the base model to tune\n",
    "rf = RandomForestClassifier(random_state = 42)\n",
    "# Random search of parameters, using 3 fold cross validation, \n",
    "# search across 100 different combinations, and use all available cores\n",
    "rf_random = RandomizedSearchCV(estimator=rf, param_distributions=random_grid,\n",
    "                              n_iter = 10, scoring=\"neg_log_loss\", \n",
    "                              cv = 3, verbose=2, random_state=42, n_jobs=-1,\n",
    "                              return_train_score=True)\n",
    "\n",
    "# Fit the random search model\n",
    "rf_random.fit(X_train, y_train);"
   ]
  },
  {
   "cell_type": "code",
   "execution_count": 389,
   "metadata": {},
   "outputs": [
    {
     "name": "stdout",
     "output_type": "stream",
     "text": [
      "{'n_estimators': 435, 'min_samples_split': 10, 'min_samples_leaf': 10, 'max_depth': 90, 'bootstrap': True}\n"
     ]
    }
   ],
   "source": [
    "print(rf_random.best_params_)"
   ]
  },
  {
   "cell_type": "code",
   "execution_count": 390,
   "metadata": {},
   "outputs": [],
   "source": [
    "best_random = rf_random.best_estimator_"
   ]
  },
  {
   "cell_type": "code",
   "execution_count": 388,
   "metadata": {},
   "outputs": [],
   "source": [
    "def model_evaluation(model, test_features, test_label):\n",
    "    y_pred_class=model.predict(test_features)\n",
    "    \n",
    "    from sklearn import metrics\n",
    "    accuracy_score=metrics.accuracy_score(test_label, y_pred_class)\n",
    "    precision_score=metrics.precision_score(test_label, y_pred_class)\n",
    "    recall_score=metrics.recall_score(test_label, y_pred_class)\n",
    "    roc_auc_score=metrics.roc_auc_score(test_label, y_pred_class)\n",
    "    \n",
    "    print(\"Model Performance:\")\n",
    "    \n",
    "    print(\"accuracy score: \", accuracy_score)\n",
    "    print(\"precision score: \", precision_score)\n",
    "    print(\"recall score: \", recall_score)\n",
    "    print(\"roc auc score:\", roc_auc_score)"
   ]
  },
  {
   "cell_type": "code",
   "execution_count": 391,
   "metadata": {},
   "outputs": [
    {
     "name": "stdout",
     "output_type": "stream",
     "text": [
      "Model Performance:\n",
      "accuracy score:  0.7852\n",
      "precision score:  0.7526283240568955\n",
      "recall score:  0.6435748281332628\n",
      "roc auc score: 0.7574580477108901\n"
     ]
    }
   ],
   "source": [
    "model_evaluation(best_random, X_test, y_test)"
   ]
  },
  {
   "cell_type": "code",
   "execution_count": 392,
   "metadata": {},
   "outputs": [],
   "source": [
    "y_pred_class_rf=best_random.predict(X_test)"
   ]
  },
  {
   "cell_type": "markdown",
   "metadata": {},
   "source": [
    "# Use Gird Search to identify the best hyperparameters:"
   ]
  },
  {
   "cell_type": "code",
   "execution_count": 395,
   "metadata": {},
   "outputs": [
    {
     "name": "stdout",
     "output_type": "stream",
     "text": [
      "{'n_estimators': 435, 'min_samples_split': 10, 'min_samples_leaf': 10, 'max_depth': 90, 'bootstrap': True}\n"
     ]
    }
   ],
   "source": [
    "print(rf_random.best_params_)"
   ]
  },
  {
   "cell_type": "code",
   "execution_count": 398,
   "metadata": {},
   "outputs": [
    {
     "name": "stdout",
     "output_type": "stream",
     "text": [
      "Fitting 3 folds for each of 16 candidates, totalling 48 fits\n"
     ]
    },
    {
     "name": "stderr",
     "output_type": "stream",
     "text": [
      "[Parallel(n_jobs=-1)]: Using backend LokyBackend with 4 concurrent workers.\n",
      "[Parallel(n_jobs=-1)]: Done  33 tasks      | elapsed:  3.0min\n",
      "[Parallel(n_jobs=-1)]: Done  48 out of  48 | elapsed:  4.3min finished\n"
     ]
    },
    {
     "data": {
      "text/plain": [
       "RandomForestClassifier(bootstrap=True, class_weight=None, criterion='gini',\n",
       "            max_depth=70, max_features='auto', max_leaf_nodes=None,\n",
       "            min_impurity_decrease=0.0, min_impurity_split=None,\n",
       "            min_samples_leaf=10, min_samples_split=10,\n",
       "            min_weight_fraction_leaf=0.0, n_estimators=500, n_jobs=None,\n",
       "            oob_score=False, random_state=42, verbose=0, warm_start=False)"
      ]
     },
     "execution_count": 398,
     "metadata": {},
     "output_type": "execute_result"
    }
   ],
   "source": [
    "# Create the parameter grid based on the results of random search \n",
    "param_grid = {\n",
    "    'bootstrap': [ True],\n",
    "     'max_depth': [70],\n",
    "     'min_samples_leaf': [10,15],\n",
    "     'min_samples_split': [10,15],\n",
    "     'n_estimators': [435, 464, 485, 500]\n",
    "}\n",
    "\n",
    "# Create a base model\n",
    "rf = RandomForestClassifier(random_state = 42)\n",
    "\n",
    "# Instantiate the grid search model\n",
    "grid_search = GridSearchCV(estimator = rf, param_grid = param_grid, scoring='neg_log_loss', \n",
    "                          cv = 3, n_jobs = -1, verbose = 2, return_train_score=True)\n",
    "\n",
    "# Fit the grid search to the data\n",
    "grid_search.fit(X_train, y_train);\n",
    "\n",
    "\n",
    "\n",
    "best_grid = grid_search.best_estimator_\n",
    "best_grid.fit(X_train, y_train)"
   ]
  },
  {
   "cell_type": "code",
   "execution_count": 457,
   "metadata": {},
   "outputs": [
    {
     "name": "stdout",
     "output_type": "stream",
     "text": [
      "{'bootstrap': True, 'max_depth': 70, 'min_samples_leaf': 10, 'min_samples_split': 10, 'n_estimators': 500}\n"
     ]
    }
   ],
   "source": [
    "print(grid_search.best_params_)"
   ]
  },
  {
   "cell_type": "code",
   "execution_count": 458,
   "metadata": {},
   "outputs": [
    {
     "name": "stdout",
     "output_type": "stream",
     "text": [
      "Model Performance:\n",
      "accuracy score:  0.7845\n",
      "precision score:  0.7511577647422044\n",
      "recall score:  0.6433104177683765\n",
      "roc auc score: 0.7568433722807787\n"
     ]
    }
   ],
   "source": [
    "model_evaluation(best_grid, X_test, y_test)"
   ]
  },
  {
   "cell_type": "code",
   "execution_count": 459,
   "metadata": {},
   "outputs": [
    {
     "data": {
      "image/png": "[encoded data removed]",
      "text/plain": [
       "<Figure size 288x288 with 1 Axes>"
      ]
     },
     "metadata": {
      "needs_background": "light"
     },
     "output_type": "display_data"
    }
   ],
   "source": [
    "conf_mx=confusion_matrix(y_test, y_pred_class_rf)\n",
    "plt.matshow(conf_mx, cmap=plt.cm.gray)\n",
    "plt.title(\"Confusion Matrix\")\n",
    "plt.show()"
   ]
  },
  {
   "cell_type": "markdown",
   "metadata": {},
   "source": [
    "Compared with the logistic regression model, random forest model is performing better in identifying the active users."
   ]
  },
  {
   "cell_type": "markdown",
   "metadata": {},
   "source": [
    "The most importance features for the random forest classification model are average rating by driver, the percentage of the weekday trips, the percentage of trips with surge multiplier and the location where users signed up (King's Landing)."
   ]
  },
  {
   "cell_type": "code",
   "execution_count": 464,
   "metadata": {},
   "outputs": [
    {
     "data": {
      "text/plain": [
       "<Figure size 720x432 with 0 Axes>"
      ]
     },
     "metadata": {},
     "output_type": "display_data"
    },
    {
     "data": {
      "image/png": "[encoded data removed]",
      "text/plain": [
       "<Figure size 432x288 with 1 Axes>"
      ]
     },
     "metadata": {
      "needs_background": "light"
     },
     "output_type": "display_data"
    }
   ],
   "source": [
    "plt.figure(figsize=(10, 6))\n",
    "feature_list1=list(X_train.columns)\n",
    "model_random_forest_feature_importance_df=pd.DataFrame(list(zip(feature_list1, best_grid.feature_importances_)), columns=['feature name', 'feature importance'])\n",
    "model_random_forest_feature_importance_df=model_random_forest_feature_importance_df.sort_values(by='feature importance', ascending=False)\n",
    "model_random_forest_feature_importance_df.set_index('feature name', inplace=True)\n",
    "model_random_forest_feature_importance_df[:15]. sort_values(by='feature importance', ascending=True).plot(kind='barh', title=\"15 most importance features in random forest classifier\")\n",
    "plt.show()\n"
   ]
  },
  {
   "cell_type": "markdown",
   "metadata": {},
   "source": [
    "- By leveraging the insignts from the model, we can make prediction on the users who are more likely to be retained as active users. We can promote referral programs for those users. For the users who are less likely to stay, we can consider  reducing initial acquisition cost on them. \n",
    "- Based on the coefficients from the logistic regression model, iphone users and users who signed up at King's Landing are more likely to be active users. So more marketing/promotion could be targeted at these types of users.\n",
    "- The number of trips during the first 30 days and the percentage of trips over the weekdays are also important factors for the classification. It would be recommended to launch some promotions to motivate new users to use the app over the weekdays.\n",
    "- The usage of the surge multiplier could have a negative impact on the classification. So the operation team need to adjust  the pricing and user experience of the surge multiplier function for user retention.\n",
    "\n"
   ]
  }
 ],
 "metadata": {
  "kernelspec": {
   "display_name": "Python 3",
   "language": "python",
   "name": "python3"
  },
  "language_info": {
   "codemirror_mode": {
    "name": "ipython",
    "version": 3
   },
   "file_extension": ".py",
   "mimetype": "text/x-python",
   "name": "python",
   "nbconvert_exporter": "python",
   "pygments_lexer": "ipython3",
   "version": "3.7.1"
  }
 },
 "nbformat": 4,
 "nbformat_minor": 2
}
